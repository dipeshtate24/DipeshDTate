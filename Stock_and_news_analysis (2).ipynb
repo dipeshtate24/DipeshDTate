{
  "nbformat": 4,
  "nbformat_minor": 0,
  "metadata": {
    "colab": {
      "name": "Stock and news analysis.ipynb",
      "provenance": [],
      "collapsed_sections": []
    },
    "kernelspec": {
      "display_name": "Python 3",
      "name": "python3"
    }
  },
  "cells": [
    {
      "cell_type": "markdown",
      "metadata": {
        "id": "sxNA2oNFHmAf"
      },
      "source": [
        "**STOCK MARKET PREDICTION USING NUMERICALL AND TEXTUAL ANALYSIS**\r\n",
        "\r\n",
        "\r\n",
        "*   Objective:- create a hybrid model for stock price performance prediction using numerical analysis of historical stock prices, and sentimental analysis of news headline.\r\n",
        "  \r\n",
        "  \r\n",
        "  I have use auto-arima model to make stock market price prediction using the historical stock prices data.In the sentiment analysis model.I have also use different machine\r\n",
        "learning technique like RandomForestRegressor,LightGBM, and Xgboost to make the prediction\r\n",
        "\r\n"
      ]
    },
    {
      "cell_type": "code",
      "metadata": {
        "id": "uoegrynrqiaP"
      },
      "source": [
        "# Importing all libraries required in this notebook\r\n",
        "import pandas as pd\r\n",
        "import numpy as np  \r\n",
        "import matplotlib.pyplot as plt  \r\n",
        "%matplotlib inline\r\n",
        "import nltk\r\n",
        "import warnings\r\n",
        "warnings.filterwarnings('ignore')"
      ],
      "execution_count": null,
      "outputs": []
    },
    {
      "cell_type": "code",
      "metadata": {
        "colab": {
          "base_uri": "https://localhost:8080/"
        },
        "id": "OD9QdjuuRCgJ",
        "outputId": "c8fc559e-905d-49ec-af48-563ef24d0c2b"
      },
      "source": [
        "import re\r\n",
        "from nltk.corpus import stopwords\r\n",
        "nltk.download('stopwords')\r\n",
        "nltk.download('vader_lexicon')\r\n",
        "from textblob import TextBlob\r\n",
        "from nltk.sentiment.vader import SentimentIntensityAnalyzer\r\n",
        "from nltk.stem.porter import PorterStemmer\r\n",
        "import xgboost "
      ],
      "execution_count": null,
      "outputs": [
        {
          "output_type": "stream",
          "text": [
            "[nltk_data] Downloading package stopwords to /root/nltk_data...\n",
            "[nltk_data]   Unzipping corpora/stopwords.zip.\n",
            "[nltk_data] Downloading package vader_lexicon to /root/nltk_data...\n"
          ],
          "name": "stdout"
        }
      ]
    },
    {
      "cell_type": "code",
      "metadata": {
        "colab": {
          "base_uri": "https://localhost:8080/",
          "height": 221
        },
        "id": "wRTlcHAhqwLk",
        "outputId": "ded58892-3986-4cb3-cc71-7a06d4af1040"
      },
      "source": [
        "url1='https://dataverse.harvard.edu/api/access/datafile/:persistentId?persistentId=doi:10.7910/DVN/DPQMQH/P2Z4PM'\r\n",
        "Text=pd.read_csv(url1)\r\n",
        "print(\"Data printed\")\r\n",
        "Text.head()"
      ],
      "execution_count": null,
      "outputs": [
        {
          "output_type": "stream",
          "text": [
            "Data printed\n"
          ],
          "name": "stdout"
        },
        {
          "output_type": "execute_result",
          "data": {
            "text/html": [
              "<div>\n",
              "<style scoped>\n",
              "    .dataframe tbody tr th:only-of-type {\n",
              "        vertical-align: middle;\n",
              "    }\n",
              "\n",
              "    .dataframe tbody tr th {\n",
              "        vertical-align: top;\n",
              "    }\n",
              "\n",
              "    .dataframe thead th {\n",
              "        text-align: right;\n",
              "    }\n",
              "</style>\n",
              "<table border=\"1\" class=\"dataframe\">\n",
              "  <thead>\n",
              "    <tr style=\"text-align: right;\">\n",
              "      <th></th>\n",
              "      <th>publish_date</th>\n",
              "      <th>headline_category</th>\n",
              "      <th>headline_text</th>\n",
              "    </tr>\n",
              "  </thead>\n",
              "  <tbody>\n",
              "    <tr>\n",
              "      <th>0</th>\n",
              "      <td>20010101</td>\n",
              "      <td>sports.wwe</td>\n",
              "      <td>win over cena satisfying but defeating underta...</td>\n",
              "    </tr>\n",
              "    <tr>\n",
              "      <th>1</th>\n",
              "      <td>20010102</td>\n",
              "      <td>unknown</td>\n",
              "      <td>Status quo will not be disturbed at Ayodhya; s...</td>\n",
              "    </tr>\n",
              "    <tr>\n",
              "      <th>2</th>\n",
              "      <td>20010102</td>\n",
              "      <td>unknown</td>\n",
              "      <td>Fissures in Hurriyat over Pak visit</td>\n",
              "    </tr>\n",
              "    <tr>\n",
              "      <th>3</th>\n",
              "      <td>20010102</td>\n",
              "      <td>unknown</td>\n",
              "      <td>America's unwanted heading for India?</td>\n",
              "    </tr>\n",
              "    <tr>\n",
              "      <th>4</th>\n",
              "      <td>20010102</td>\n",
              "      <td>unknown</td>\n",
              "      <td>For bigwigs; it is destination Goa</td>\n",
              "    </tr>\n",
              "  </tbody>\n",
              "</table>\n",
              "</div>"
            ],
            "text/plain": [
              "   publish_date  ...                                      headline_text\n",
              "0      20010101  ...  win over cena satisfying but defeating underta...\n",
              "1      20010102  ...  Status quo will not be disturbed at Ayodhya; s...\n",
              "2      20010102  ...                Fissures in Hurriyat over Pak visit\n",
              "3      20010102  ...              America's unwanted heading for India?\n",
              "4      20010102  ...                 For bigwigs; it is destination Goa\n",
              "\n",
              "[5 rows x 3 columns]"
            ]
          },
          "metadata": {
            "tags": []
          },
          "execution_count": 3
        }
      ]
    },
    {
      "cell_type": "code",
      "metadata": {
        "colab": {
          "base_uri": "https://localhost:8080/"
        },
        "id": "DxSOIBKNrABz",
        "outputId": "b630b34c-4299-4b5e-c32f-f35173a331cc"
      },
      "source": [
        "Text.info()"
      ],
      "execution_count": null,
      "outputs": [
        {
          "output_type": "stream",
          "text": [
            "<class 'pandas.core.frame.DataFrame'>\n",
            "RangeIndex: 3297172 entries, 0 to 3297171\n",
            "Data columns (total 3 columns):\n",
            " #   Column             Dtype \n",
            "---  ------             ----- \n",
            " 0   publish_date       int64 \n",
            " 1   headline_category  object\n",
            " 2   headline_text      object\n",
            "dtypes: int64(1), object(2)\n",
            "memory usage: 75.5+ MB\n"
          ],
          "name": "stdout"
        }
      ]
    },
    {
      "cell_type": "code",
      "metadata": {
        "colab": {
          "base_uri": "https://localhost:8080/"
        },
        "id": "cG4CNrjvrRlb",
        "outputId": "957c5ddf-86aa-4835-8169-41a751f41ea6"
      },
      "source": [
        "Text.shape"
      ],
      "execution_count": null,
      "outputs": [
        {
          "output_type": "execute_result",
          "data": {
            "text/plain": [
              "(3297172, 3)"
            ]
          },
          "metadata": {
            "tags": []
          },
          "execution_count": 5
        }
      ]
    },
    {
      "cell_type": "code",
      "metadata": {
        "colab": {
          "base_uri": "https://localhost:8080/"
        },
        "id": "V8CPwNbArmuN",
        "outputId": "b36b147c-6b25-4532-d2fe-ceee12e5fe92"
      },
      "source": [
        "Text.columns"
      ],
      "execution_count": null,
      "outputs": [
        {
          "output_type": "execute_result",
          "data": {
            "text/plain": [
              "Index(['publish_date', 'headline_category', 'headline_text'], dtype='object')"
            ]
          },
          "metadata": {
            "tags": []
          },
          "execution_count": 6
        }
      ]
    },
    {
      "cell_type": "code",
      "metadata": {
        "id": "sTiXA-Wnr0yD"
      },
      "source": [
        "Text_cols =['Date','Category','headline']"
      ],
      "execution_count": null,
      "outputs": []
    },
    {
      "cell_type": "code",
      "metadata": {
        "id": "2v2hnEwlr1ZT"
      },
      "source": [
        "Text.columns=Text_cols"
      ],
      "execution_count": null,
      "outputs": []
    },
    {
      "cell_type": "code",
      "metadata": {
        "colab": {
          "base_uri": "https://localhost:8080/",
          "height": 204
        },
        "id": "SJSgRcOLr148",
        "outputId": "a8456be8-779b-40ff-939a-d1c934956f0b"
      },
      "source": [
        "Text.head()"
      ],
      "execution_count": null,
      "outputs": [
        {
          "output_type": "execute_result",
          "data": {
            "text/html": [
              "<div>\n",
              "<style scoped>\n",
              "    .dataframe tbody tr th:only-of-type {\n",
              "        vertical-align: middle;\n",
              "    }\n",
              "\n",
              "    .dataframe tbody tr th {\n",
              "        vertical-align: top;\n",
              "    }\n",
              "\n",
              "    .dataframe thead th {\n",
              "        text-align: right;\n",
              "    }\n",
              "</style>\n",
              "<table border=\"1\" class=\"dataframe\">\n",
              "  <thead>\n",
              "    <tr style=\"text-align: right;\">\n",
              "      <th></th>\n",
              "      <th>Date</th>\n",
              "      <th>Category</th>\n",
              "      <th>headline</th>\n",
              "    </tr>\n",
              "  </thead>\n",
              "  <tbody>\n",
              "    <tr>\n",
              "      <th>0</th>\n",
              "      <td>20010101</td>\n",
              "      <td>sports.wwe</td>\n",
              "      <td>win over cena satisfying but defeating underta...</td>\n",
              "    </tr>\n",
              "    <tr>\n",
              "      <th>1</th>\n",
              "      <td>20010102</td>\n",
              "      <td>unknown</td>\n",
              "      <td>Status quo will not be disturbed at Ayodhya; s...</td>\n",
              "    </tr>\n",
              "    <tr>\n",
              "      <th>2</th>\n",
              "      <td>20010102</td>\n",
              "      <td>unknown</td>\n",
              "      <td>Fissures in Hurriyat over Pak visit</td>\n",
              "    </tr>\n",
              "    <tr>\n",
              "      <th>3</th>\n",
              "      <td>20010102</td>\n",
              "      <td>unknown</td>\n",
              "      <td>America's unwanted heading for India?</td>\n",
              "    </tr>\n",
              "    <tr>\n",
              "      <th>4</th>\n",
              "      <td>20010102</td>\n",
              "      <td>unknown</td>\n",
              "      <td>For bigwigs; it is destination Goa</td>\n",
              "    </tr>\n",
              "  </tbody>\n",
              "</table>\n",
              "</div>"
            ],
            "text/plain": [
              "       Date    Category                                           headline\n",
              "0  20010101  sports.wwe  win over cena satisfying but defeating underta...\n",
              "1  20010102     unknown  Status quo will not be disturbed at Ayodhya; s...\n",
              "2  20010102     unknown                Fissures in Hurriyat over Pak visit\n",
              "3  20010102     unknown              America's unwanted heading for India?\n",
              "4  20010102     unknown                 For bigwigs; it is destination Goa"
            ]
          },
          "metadata": {
            "tags": []
          },
          "execution_count": 9
        }
      ]
    },
    {
      "cell_type": "code",
      "metadata": {
        "colab": {
          "base_uri": "https://localhost:8080/",
          "height": 204
        },
        "id": "HQ8h5cLRsb0e",
        "outputId": "a6feec9a-1daa-4e1e-fecd-e097536b6568"
      },
      "source": [
        "Text.tail()"
      ],
      "execution_count": null,
      "outputs": [
        {
          "output_type": "execute_result",
          "data": {
            "text/html": [
              "<div>\n",
              "<style scoped>\n",
              "    .dataframe tbody tr th:only-of-type {\n",
              "        vertical-align: middle;\n",
              "    }\n",
              "\n",
              "    .dataframe tbody tr th {\n",
              "        vertical-align: top;\n",
              "    }\n",
              "\n",
              "    .dataframe thead th {\n",
              "        text-align: right;\n",
              "    }\n",
              "</style>\n",
              "<table border=\"1\" class=\"dataframe\">\n",
              "  <thead>\n",
              "    <tr style=\"text-align: right;\">\n",
              "      <th></th>\n",
              "      <th>Date</th>\n",
              "      <th>Category</th>\n",
              "      <th>headline</th>\n",
              "    </tr>\n",
              "  </thead>\n",
              "  <tbody>\n",
              "    <tr>\n",
              "      <th>3297167</th>\n",
              "      <td>20200630</td>\n",
              "      <td>gadgets-news</td>\n",
              "      <td>why tiktok removed 1 65 crore videos in india</td>\n",
              "    </tr>\n",
              "    <tr>\n",
              "      <th>3297168</th>\n",
              "      <td>20200630</td>\n",
              "      <td>entertainment.hindi.bollywood</td>\n",
              "      <td>apurva asrani calls alia bhatts mother soni ra...</td>\n",
              "    </tr>\n",
              "    <tr>\n",
              "      <th>3297169</th>\n",
              "      <td>20200630</td>\n",
              "      <td>entertainment.hindi.bollywood</td>\n",
              "      <td>kangana ranaut gets a doll version of herself ...</td>\n",
              "    </tr>\n",
              "    <tr>\n",
              "      <th>3297170</th>\n",
              "      <td>20200630</td>\n",
              "      <td>entertainment.hindi.bollywood</td>\n",
              "      <td>meezaan jaffrey reminisces his childhood days ...</td>\n",
              "    </tr>\n",
              "    <tr>\n",
              "      <th>3297171</th>\n",
              "      <td>20200630</td>\n",
              "      <td>entertainment.telugu.movies.news</td>\n",
              "      <td>prabhas20 titled as radhe shyam prabhas and po...</td>\n",
              "    </tr>\n",
              "  </tbody>\n",
              "</table>\n",
              "</div>"
            ],
            "text/plain": [
              "             Date  ...                                           headline\n",
              "3297167  20200630  ...      why tiktok removed 1 65 crore videos in india\n",
              "3297168  20200630  ...  apurva asrani calls alia bhatts mother soni ra...\n",
              "3297169  20200630  ...  kangana ranaut gets a doll version of herself ...\n",
              "3297170  20200630  ...  meezaan jaffrey reminisces his childhood days ...\n",
              "3297171  20200630  ...  prabhas20 titled as radhe shyam prabhas and po...\n",
              "\n",
              "[5 rows x 3 columns]"
            ]
          },
          "metadata": {
            "tags": []
          },
          "execution_count": 10
        }
      ]
    },
    {
      "cell_type": "code",
      "metadata": {
        "colab": {
          "base_uri": "https://localhost:8080/"
        },
        "id": "67V9owrCAvwe",
        "outputId": "dcce2761-2a9b-44d1-bf59-b7266ed924da"
      },
      "source": [
        "News=Text.drop('Category',axis=1)\r\n",
        "News.info()"
      ],
      "execution_count": null,
      "outputs": [
        {
          "output_type": "stream",
          "text": [
            "<class 'pandas.core.frame.DataFrame'>\n",
            "RangeIndex: 3297172 entries, 0 to 3297171\n",
            "Data columns (total 2 columns):\n",
            " #   Column    Dtype \n",
            "---  ------    ----- \n",
            " 0   Date      int64 \n",
            " 1   headline  object\n",
            "dtypes: int64(1), object(1)\n",
            "memory usage: 50.3+ MB\n"
          ],
          "name": "stdout"
        }
      ]
    },
    {
      "cell_type": "code",
      "metadata": {
        "colab": {
          "base_uri": "https://localhost:8080/",
          "height": 419
        },
        "id": "AW2iDf7VCY4d",
        "outputId": "79d41047-ee8a-4b61-9e46-230c0b218ace"
      },
      "source": [
        "News['Date']=pd.to_datetime(News['Date'],format='%Y%m%d')\r\n",
        "News"
      ],
      "execution_count": null,
      "outputs": [
        {
          "output_type": "execute_result",
          "data": {
            "text/html": [
              "<div>\n",
              "<style scoped>\n",
              "    .dataframe tbody tr th:only-of-type {\n",
              "        vertical-align: middle;\n",
              "    }\n",
              "\n",
              "    .dataframe tbody tr th {\n",
              "        vertical-align: top;\n",
              "    }\n",
              "\n",
              "    .dataframe thead th {\n",
              "        text-align: right;\n",
              "    }\n",
              "</style>\n",
              "<table border=\"1\" class=\"dataframe\">\n",
              "  <thead>\n",
              "    <tr style=\"text-align: right;\">\n",
              "      <th></th>\n",
              "      <th>Date</th>\n",
              "      <th>headline</th>\n",
              "    </tr>\n",
              "  </thead>\n",
              "  <tbody>\n",
              "    <tr>\n",
              "      <th>0</th>\n",
              "      <td>2001-01-01</td>\n",
              "      <td>win over cena satisfying but defeating underta...</td>\n",
              "    </tr>\n",
              "    <tr>\n",
              "      <th>1</th>\n",
              "      <td>2001-01-02</td>\n",
              "      <td>Status quo will not be disturbed at Ayodhya; s...</td>\n",
              "    </tr>\n",
              "    <tr>\n",
              "      <th>2</th>\n",
              "      <td>2001-01-02</td>\n",
              "      <td>Fissures in Hurriyat over Pak visit</td>\n",
              "    </tr>\n",
              "    <tr>\n",
              "      <th>3</th>\n",
              "      <td>2001-01-02</td>\n",
              "      <td>America's unwanted heading for India?</td>\n",
              "    </tr>\n",
              "    <tr>\n",
              "      <th>4</th>\n",
              "      <td>2001-01-02</td>\n",
              "      <td>For bigwigs; it is destination Goa</td>\n",
              "    </tr>\n",
              "    <tr>\n",
              "      <th>...</th>\n",
              "      <td>...</td>\n",
              "      <td>...</td>\n",
              "    </tr>\n",
              "    <tr>\n",
              "      <th>3297167</th>\n",
              "      <td>2020-06-30</td>\n",
              "      <td>why tiktok removed 1 65 crore videos in india</td>\n",
              "    </tr>\n",
              "    <tr>\n",
              "      <th>3297168</th>\n",
              "      <td>2020-06-30</td>\n",
              "      <td>apurva asrani calls alia bhatts mother soni ra...</td>\n",
              "    </tr>\n",
              "    <tr>\n",
              "      <th>3297169</th>\n",
              "      <td>2020-06-30</td>\n",
              "      <td>kangana ranaut gets a doll version of herself ...</td>\n",
              "    </tr>\n",
              "    <tr>\n",
              "      <th>3297170</th>\n",
              "      <td>2020-06-30</td>\n",
              "      <td>meezaan jaffrey reminisces his childhood days ...</td>\n",
              "    </tr>\n",
              "    <tr>\n",
              "      <th>3297171</th>\n",
              "      <td>2020-06-30</td>\n",
              "      <td>prabhas20 titled as radhe shyam prabhas and po...</td>\n",
              "    </tr>\n",
              "  </tbody>\n",
              "</table>\n",
              "<p>3297172 rows × 2 columns</p>\n",
              "</div>"
            ],
            "text/plain": [
              "              Date                                           headline\n",
              "0       2001-01-01  win over cena satisfying but defeating underta...\n",
              "1       2001-01-02  Status quo will not be disturbed at Ayodhya; s...\n",
              "2       2001-01-02                Fissures in Hurriyat over Pak visit\n",
              "3       2001-01-02              America's unwanted heading for India?\n",
              "4       2001-01-02                 For bigwigs; it is destination Goa\n",
              "...            ...                                                ...\n",
              "3297167 2020-06-30      why tiktok removed 1 65 crore videos in india\n",
              "3297168 2020-06-30  apurva asrani calls alia bhatts mother soni ra...\n",
              "3297169 2020-06-30  kangana ranaut gets a doll version of herself ...\n",
              "3297170 2020-06-30  meezaan jaffrey reminisces his childhood days ...\n",
              "3297171 2020-06-30  prabhas20 titled as radhe shyam prabhas and po...\n",
              "\n",
              "[3297172 rows x 2 columns]"
            ]
          },
          "metadata": {
            "tags": []
          },
          "execution_count": 12
        }
      ]
    },
    {
      "cell_type": "code",
      "metadata": {
        "colab": {
          "base_uri": "https://localhost:8080/",
          "height": 419
        },
        "id": "3YY05817zuLA",
        "outputId": "2021189d-7927-477e-9462-cfb0a9d3a0a0"
      },
      "source": [
        "News['headline']=News.groupby(['Date']).transform(lambda x:''.join(x))\r\n",
        "News=News.drop_duplicates()\r\n",
        "News.reset_index(inplace=True,drop=True)\r\n",
        "News"
      ],
      "execution_count": null,
      "outputs": [
        {
          "output_type": "execute_result",
          "data": {
            "text/html": [
              "<div>\n",
              "<style scoped>\n",
              "    .dataframe tbody tr th:only-of-type {\n",
              "        vertical-align: middle;\n",
              "    }\n",
              "\n",
              "    .dataframe tbody tr th {\n",
              "        vertical-align: top;\n",
              "    }\n",
              "\n",
              "    .dataframe thead th {\n",
              "        text-align: right;\n",
              "    }\n",
              "</style>\n",
              "<table border=\"1\" class=\"dataframe\">\n",
              "  <thead>\n",
              "    <tr style=\"text-align: right;\">\n",
              "      <th></th>\n",
              "      <th>Date</th>\n",
              "      <th>headline</th>\n",
              "    </tr>\n",
              "  </thead>\n",
              "  <tbody>\n",
              "    <tr>\n",
              "      <th>0</th>\n",
              "      <td>2001-01-01</td>\n",
              "      <td>win over cena satisfying but defeating underta...</td>\n",
              "    </tr>\n",
              "    <tr>\n",
              "      <th>1</th>\n",
              "      <td>2001-01-02</td>\n",
              "      <td>Status quo will not be disturbed at Ayodhya; s...</td>\n",
              "    </tr>\n",
              "    <tr>\n",
              "      <th>2</th>\n",
              "      <td>2001-01-03</td>\n",
              "      <td>Powerless north India gropes in the darkThink ...</td>\n",
              "    </tr>\n",
              "    <tr>\n",
              "      <th>3</th>\n",
              "      <td>2001-01-04</td>\n",
              "      <td>The string that pulled Stephen Hawking to Indi...</td>\n",
              "    </tr>\n",
              "    <tr>\n",
              "      <th>4</th>\n",
              "      <td>2001-01-05</td>\n",
              "      <td>Light combat craft takes India into club class...</td>\n",
              "    </tr>\n",
              "    <tr>\n",
              "      <th>...</th>\n",
              "      <td>...</td>\n",
              "      <td>...</td>\n",
              "    </tr>\n",
              "    <tr>\n",
              "      <th>7075</th>\n",
              "      <td>2020-06-26</td>\n",
              "      <td>Containment zone residents slam high prices ch...</td>\n",
              "    </tr>\n",
              "    <tr>\n",
              "      <th>7076</th>\n",
              "      <td>2020-06-27</td>\n",
              "      <td>like me i wont let you have a toxic relationsh...</td>\n",
              "    </tr>\n",
              "    <tr>\n",
              "      <th>7077</th>\n",
              "      <td>2020-06-28</td>\n",
              "      <td>Atanu Ghosh plans to rewrite old scripts to ma...</td>\n",
              "    </tr>\n",
              "    <tr>\n",
              "      <th>7078</th>\n",
              "      <td>2020-06-29</td>\n",
              "      <td>6 hot and stylish bikini looks of Katrina Kaif...</td>\n",
              "    </tr>\n",
              "    <tr>\n",
              "      <th>7079</th>\n",
              "      <td>2020-06-30</td>\n",
              "      <td>Detective Byomkesh Bakshy!Edge of TomorrowFirs...</td>\n",
              "    </tr>\n",
              "  </tbody>\n",
              "</table>\n",
              "<p>7080 rows × 2 columns</p>\n",
              "</div>"
            ],
            "text/plain": [
              "           Date                                           headline\n",
              "0    2001-01-01  win over cena satisfying but defeating underta...\n",
              "1    2001-01-02  Status quo will not be disturbed at Ayodhya; s...\n",
              "2    2001-01-03  Powerless north India gropes in the darkThink ...\n",
              "3    2001-01-04  The string that pulled Stephen Hawking to Indi...\n",
              "4    2001-01-05  Light combat craft takes India into club class...\n",
              "...         ...                                                ...\n",
              "7075 2020-06-26  Containment zone residents slam high prices ch...\n",
              "7076 2020-06-27  like me i wont let you have a toxic relationsh...\n",
              "7077 2020-06-28  Atanu Ghosh plans to rewrite old scripts to ma...\n",
              "7078 2020-06-29  6 hot and stylish bikini looks of Katrina Kaif...\n",
              "7079 2020-06-30  Detective Byomkesh Bakshy!Edge of TomorrowFirs...\n",
              "\n",
              "[7080 rows x 2 columns]"
            ]
          },
          "metadata": {
            "tags": []
          },
          "execution_count": 13
        }
      ]
    },
    {
      "cell_type": "code",
      "metadata": {
        "colab": {
          "base_uri": "https://localhost:8080/"
        },
        "id": "BKbz8M1xHxm4",
        "outputId": "2ddecdf7-bde0-450a-d0c7-ec555307ee65"
      },
      "source": [
        "News['headline']"
      ],
      "execution_count": null,
      "outputs": [
        {
          "output_type": "execute_result",
          "data": {
            "text/plain": [
              "0       win over cena satisfying but defeating underta...\n",
              "1       Status quo will not be disturbed at Ayodhya; s...\n",
              "2       Powerless north India gropes in the darkThink ...\n",
              "3       The string that pulled Stephen Hawking to Indi...\n",
              "4       Light combat craft takes India into club class...\n",
              "                              ...                        \n",
              "7075    Containment zone residents slam high prices ch...\n",
              "7076    like me i wont let you have a toxic relationsh...\n",
              "7077    Atanu Ghosh plans to rewrite old scripts to ma...\n",
              "7078    6 hot and stylish bikini looks of Katrina Kaif...\n",
              "7079    Detective Byomkesh Bakshy!Edge of TomorrowFirs...\n",
              "Name: headline, Length: 7080, dtype: object"
            ]
          },
          "metadata": {
            "tags": []
          },
          "execution_count": 14
        }
      ]
    },
    {
      "cell_type": "code",
      "metadata": {
        "id": "tQ609uAtECqQ"
      },
      "source": [
        "#cleaning headline\r\n",
        "ps=PorterStemmer()\r\n",
        "c=[]\r\n",
        "for i in range (0,len(News['headline'])):\r\n",
        "  df=re.sub('[^a-zA-Z]',' ',News['headline'][i])\r\n",
        "  df=df.lower()\r\n",
        "  df=df.split()\r\n",
        "  df=' '.join(df)\r\n",
        "  c.append(df)"
      ],
      "execution_count": null,
      "outputs": []
    },
    {
      "cell_type": "code",
      "metadata": {
        "colab": {
          "base_uri": "https://localhost:8080/",
          "height": 419
        },
        "id": "JLglbJxZhY0e",
        "outputId": "fdefd0ec-234f-4d66-e290-79984d269824"
      },
      "source": [
        "News['headline']=pd.Series(c)\r\n",
        "News"
      ],
      "execution_count": null,
      "outputs": [
        {
          "output_type": "execute_result",
          "data": {
            "text/html": [
              "<div>\n",
              "<style scoped>\n",
              "    .dataframe tbody tr th:only-of-type {\n",
              "        vertical-align: middle;\n",
              "    }\n",
              "\n",
              "    .dataframe tbody tr th {\n",
              "        vertical-align: top;\n",
              "    }\n",
              "\n",
              "    .dataframe thead th {\n",
              "        text-align: right;\n",
              "    }\n",
              "</style>\n",
              "<table border=\"1\" class=\"dataframe\">\n",
              "  <thead>\n",
              "    <tr style=\"text-align: right;\">\n",
              "      <th></th>\n",
              "      <th>Date</th>\n",
              "      <th>headline</th>\n",
              "    </tr>\n",
              "  </thead>\n",
              "  <tbody>\n",
              "    <tr>\n",
              "      <th>0</th>\n",
              "      <td>2001-01-01</td>\n",
              "      <td>win over cena satisfying but defeating underta...</td>\n",
              "    </tr>\n",
              "    <tr>\n",
              "      <th>1</th>\n",
              "      <td>2001-01-02</td>\n",
              "      <td>status quo will not be disturbed at ayodhya sa...</td>\n",
              "    </tr>\n",
              "    <tr>\n",
              "      <th>2</th>\n",
              "      <td>2001-01-03</td>\n",
              "      <td>powerless north india gropes in the darkthink ...</td>\n",
              "    </tr>\n",
              "    <tr>\n",
              "      <th>3</th>\n",
              "      <td>2001-01-04</td>\n",
              "      <td>the string that pulled stephen hawking to indi...</td>\n",
              "    </tr>\n",
              "    <tr>\n",
              "      <th>4</th>\n",
              "      <td>2001-01-05</td>\n",
              "      <td>light combat craft takes india into club class...</td>\n",
              "    </tr>\n",
              "    <tr>\n",
              "      <th>...</th>\n",
              "      <td>...</td>\n",
              "      <td>...</td>\n",
              "    </tr>\n",
              "    <tr>\n",
              "      <th>7075</th>\n",
              "      <td>2020-06-26</td>\n",
              "      <td>containment zone residents slam high prices ch...</td>\n",
              "    </tr>\n",
              "    <tr>\n",
              "      <th>7076</th>\n",
              "      <td>2020-06-27</td>\n",
              "      <td>like me i wont let you have a toxic relationsh...</td>\n",
              "    </tr>\n",
              "    <tr>\n",
              "      <th>7077</th>\n",
              "      <td>2020-06-28</td>\n",
              "      <td>atanu ghosh plans to rewrite old scripts to ma...</td>\n",
              "    </tr>\n",
              "    <tr>\n",
              "      <th>7078</th>\n",
              "      <td>2020-06-29</td>\n",
              "      <td>hot and stylish bikini looks of katrina kaifan...</td>\n",
              "    </tr>\n",
              "    <tr>\n",
              "      <th>7079</th>\n",
              "      <td>2020-06-30</td>\n",
              "      <td>detective byomkesh bakshy edge of tomorrowfirs...</td>\n",
              "    </tr>\n",
              "  </tbody>\n",
              "</table>\n",
              "<p>7080 rows × 2 columns</p>\n",
              "</div>"
            ],
            "text/plain": [
              "           Date                                           headline\n",
              "0    2001-01-01  win over cena satisfying but defeating underta...\n",
              "1    2001-01-02  status quo will not be disturbed at ayodhya sa...\n",
              "2    2001-01-03  powerless north india gropes in the darkthink ...\n",
              "3    2001-01-04  the string that pulled stephen hawking to indi...\n",
              "4    2001-01-05  light combat craft takes india into club class...\n",
              "...         ...                                                ...\n",
              "7075 2020-06-26  containment zone residents slam high prices ch...\n",
              "7076 2020-06-27  like me i wont let you have a toxic relationsh...\n",
              "7077 2020-06-28  atanu ghosh plans to rewrite old scripts to ma...\n",
              "7078 2020-06-29  hot and stylish bikini looks of katrina kaifan...\n",
              "7079 2020-06-30  detective byomkesh bakshy edge of tomorrowfirs...\n",
              "\n",
              "[7080 rows x 2 columns]"
            ]
          },
          "metadata": {
            "tags": []
          },
          "execution_count": 16
        }
      ]
    },
    {
      "cell_type": "code",
      "metadata": {
        "id": "a6RZVuBgSQf8"
      },
      "source": [
        "from textblob import TextBlob\r\n",
        "def getSubjectivity (text):\r\n",
        "  return TextBlob(text).sentiment.subjectivity\r\n",
        "\r\n",
        "def getPolarity (text):\r\n",
        "  return TextBlob(text).sentiment.polarity"
      ],
      "execution_count": null,
      "outputs": []
    },
    {
      "cell_type": "code",
      "metadata": {
        "colab": {
          "base_uri": "https://localhost:8080/",
          "height": 419
        },
        "id": "nI0TpCY-S7OX",
        "outputId": "0be9646c-754a-4528-fea8-1eb54efa9c9b"
      },
      "source": [
        "News['Subjectivity']=News['headline'].apply(getSubjectivity)\r\n",
        "News['Polarity']=News['headline'].apply(getPolarity)\r\n",
        "News"
      ],
      "execution_count": null,
      "outputs": [
        {
          "output_type": "execute_result",
          "data": {
            "text/html": [
              "<div>\n",
              "<style scoped>\n",
              "    .dataframe tbody tr th:only-of-type {\n",
              "        vertical-align: middle;\n",
              "    }\n",
              "\n",
              "    .dataframe tbody tr th {\n",
              "        vertical-align: top;\n",
              "    }\n",
              "\n",
              "    .dataframe thead th {\n",
              "        text-align: right;\n",
              "    }\n",
              "</style>\n",
              "<table border=\"1\" class=\"dataframe\">\n",
              "  <thead>\n",
              "    <tr style=\"text-align: right;\">\n",
              "      <th></th>\n",
              "      <th>Date</th>\n",
              "      <th>headline</th>\n",
              "      <th>Subjectivity</th>\n",
              "      <th>Polarity</th>\n",
              "    </tr>\n",
              "  </thead>\n",
              "  <tbody>\n",
              "    <tr>\n",
              "      <th>0</th>\n",
              "      <td>2001-01-01</td>\n",
              "      <td>win over cena satisfying but defeating underta...</td>\n",
              "      <td>0.633333</td>\n",
              "      <td>0.433333</td>\n",
              "    </tr>\n",
              "    <tr>\n",
              "      <th>1</th>\n",
              "      <td>2001-01-02</td>\n",
              "      <td>status quo will not be disturbed at ayodhya sa...</td>\n",
              "      <td>0.262963</td>\n",
              "      <td>0.104630</td>\n",
              "    </tr>\n",
              "    <tr>\n",
              "      <th>2</th>\n",
              "      <td>2001-01-03</td>\n",
              "      <td>powerless north india gropes in the darkthink ...</td>\n",
              "      <td>0.432500</td>\n",
              "      <td>0.107500</td>\n",
              "    </tr>\n",
              "    <tr>\n",
              "      <th>3</th>\n",
              "      <td>2001-01-04</td>\n",
              "      <td>the string that pulled stephen hawking to indi...</td>\n",
              "      <td>0.511540</td>\n",
              "      <td>0.127977</td>\n",
              "    </tr>\n",
              "    <tr>\n",
              "      <th>4</th>\n",
              "      <td>2001-01-05</td>\n",
              "      <td>light combat craft takes india into club class...</td>\n",
              "      <td>0.464036</td>\n",
              "      <td>0.255190</td>\n",
              "    </tr>\n",
              "    <tr>\n",
              "      <th>...</th>\n",
              "      <td>...</td>\n",
              "      <td>...</td>\n",
              "      <td>...</td>\n",
              "      <td>...</td>\n",
              "    </tr>\n",
              "    <tr>\n",
              "      <th>7075</th>\n",
              "      <td>2020-06-26</td>\n",
              "      <td>containment zone residents slam high prices ch...</td>\n",
              "      <td>0.370603</td>\n",
              "      <td>0.072293</td>\n",
              "    </tr>\n",
              "    <tr>\n",
              "      <th>7076</th>\n",
              "      <td>2020-06-27</td>\n",
              "      <td>like me i wont let you have a toxic relationsh...</td>\n",
              "      <td>0.380464</td>\n",
              "      <td>0.084433</td>\n",
              "    </tr>\n",
              "    <tr>\n",
              "      <th>7077</th>\n",
              "      <td>2020-06-28</td>\n",
              "      <td>atanu ghosh plans to rewrite old scripts to ma...</td>\n",
              "      <td>0.386141</td>\n",
              "      <td>0.074113</td>\n",
              "    </tr>\n",
              "    <tr>\n",
              "      <th>7078</th>\n",
              "      <td>2020-06-29</td>\n",
              "      <td>hot and stylish bikini looks of katrina kaifan...</td>\n",
              "      <td>0.380647</td>\n",
              "      <td>0.056804</td>\n",
              "    </tr>\n",
              "    <tr>\n",
              "      <th>7079</th>\n",
              "      <td>2020-06-30</td>\n",
              "      <td>detective byomkesh bakshy edge of tomorrowfirs...</td>\n",
              "      <td>0.375745</td>\n",
              "      <td>0.070235</td>\n",
              "    </tr>\n",
              "  </tbody>\n",
              "</table>\n",
              "<p>7080 rows × 4 columns</p>\n",
              "</div>"
            ],
            "text/plain": [
              "           Date  ...  Polarity\n",
              "0    2001-01-01  ...  0.433333\n",
              "1    2001-01-02  ...  0.104630\n",
              "2    2001-01-03  ...  0.107500\n",
              "3    2001-01-04  ...  0.127977\n",
              "4    2001-01-05  ...  0.255190\n",
              "...         ...  ...       ...\n",
              "7075 2020-06-26  ...  0.072293\n",
              "7076 2020-06-27  ...  0.084433\n",
              "7077 2020-06-28  ...  0.074113\n",
              "7078 2020-06-29  ...  0.056804\n",
              "7079 2020-06-30  ...  0.070235\n",
              "\n",
              "[7080 rows x 4 columns]"
            ]
          },
          "metadata": {
            "tags": []
          },
          "execution_count": 18
        }
      ]
    },
    {
      "cell_type": "code",
      "metadata": {
        "colab": {
          "base_uri": "https://localhost:8080/",
          "height": 391
        },
        "id": "TQHJrUq-jC94",
        "outputId": "3313580b-3c02-408c-f5e9-97b733f902b8"
      },
      "source": [
        "plt.figure(figsize=(10,6))\r\n",
        "News['Polarity'].hist(color='purple')"
      ],
      "execution_count": null,
      "outputs": [
        {
          "output_type": "execute_result",
          "data": {
            "text/plain": [
              "<matplotlib.axes._subplots.AxesSubplot at 0x7f7ae4a715c0>"
            ]
          },
          "metadata": {
            "tags": []
          },
          "execution_count": 19
        },
        {
          "output_type": "display_data",
          "data": {
            "image/png": "[encoded data removed]",
            "text/plain": [
              "<Figure size 720x432 with 1 Axes>"
            ]
          },
          "metadata": {
            "tags": [],
            "needs_background": "light"
          }
        }
      ]
    },
    {
      "cell_type": "code",
      "metadata": {
        "colab": {
          "base_uri": "https://localhost:8080/",
          "height": 391
        },
        "id": "JiNK_f-c4Mr4",
        "outputId": "54ad73b0-7776-4ed6-f674-bceb61c93e09"
      },
      "source": [
        "plt.figure(figsize=(10,6))\r\n",
        "News['Subjectivity'].hist(color='blue')"
      ],
      "execution_count": null,
      "outputs": [
        {
          "output_type": "execute_result",
          "data": {
            "text/plain": [
              "<matplotlib.axes._subplots.AxesSubplot at 0x7f7ae4a55390>"
            ]
          },
          "metadata": {
            "tags": []
          },
          "execution_count": 20
        },
        {
          "output_type": "display_data",
          "data": {
            "image/png": "[encoded data removed]",
            "text/plain": [
              "<Figure size 720x432 with 1 Axes>"
            ]
          },
          "metadata": {
            "tags": [],
            "needs_background": "light"
          }
        }
      ]
    },
    {
      "cell_type": "code",
      "metadata": {
        "id": "rIImMX5U4nFF"
      },
      "source": [
        "#adding sentiment score to News\r\n",
        "#sia=SentimentIntensityAnalyzer()\r\n",
        "\r\n",
        "#News['Compound']= [sia.polarity_scores(v)['compound'] for v in News['headline']]\r\n",
        "#News['Negative']= [sia.polarity_scores(v)['neg'] for v in News['headline']]\r\n",
        "#News['Neutral']= [sia.polarity_scores(v)['neu'] for v in News['headline']]\r\n",
        "#News['Positive']= [sia.polarity_scores(v)['pos'] for v in News['headline']]"
      ],
      "execution_count": null,
      "outputs": []
    },
    {
      "cell_type": "code",
      "metadata": {
        "colab": {
          "base_uri": "https://localhost:8080/",
          "height": 419
        },
        "id": "AX_pOi1TznHT",
        "outputId": "26e10c2d-4b9b-4ce7-d986-b04891b1a040"
      },
      "source": [
        "#Adding sentiment score to df_news\r\n",
        "sia = SentimentIntensityAnalyzer()\r\n",
        "News['Compound'] = [sia.polarity_scores(v)['compound'] for v in News['headline']]\r\n",
        "News"
      ],
      "execution_count": null,
      "outputs": [
        {
          "output_type": "execute_result",
          "data": {
            "text/html": [
              "<div>\n",
              "<style scoped>\n",
              "    .dataframe tbody tr th:only-of-type {\n",
              "        vertical-align: middle;\n",
              "    }\n",
              "\n",
              "    .dataframe tbody tr th {\n",
              "        vertical-align: top;\n",
              "    }\n",
              "\n",
              "    .dataframe thead th {\n",
              "        text-align: right;\n",
              "    }\n",
              "</style>\n",
              "<table border=\"1\" class=\"dataframe\">\n",
              "  <thead>\n",
              "    <tr style=\"text-align: right;\">\n",
              "      <th></th>\n",
              "      <th>Date</th>\n",
              "      <th>headline</th>\n",
              "      <th>Subjectivity</th>\n",
              "      <th>Polarity</th>\n",
              "      <th>Compound</th>\n",
              "    </tr>\n",
              "  </thead>\n",
              "  <tbody>\n",
              "    <tr>\n",
              "      <th>0</th>\n",
              "      <td>2001-01-01</td>\n",
              "      <td>win over cena satisfying but defeating underta...</td>\n",
              "      <td>0.633333</td>\n",
              "      <td>0.433333</td>\n",
              "      <td>-0.0000</td>\n",
              "    </tr>\n",
              "    <tr>\n",
              "      <th>1</th>\n",
              "      <td>2001-01-02</td>\n",
              "      <td>status quo will not be disturbed at ayodhya sa...</td>\n",
              "      <td>0.262963</td>\n",
              "      <td>0.104630</td>\n",
              "      <td>-0.9322</td>\n",
              "    </tr>\n",
              "    <tr>\n",
              "      <th>2</th>\n",
              "      <td>2001-01-03</td>\n",
              "      <td>powerless north india gropes in the darkthink ...</td>\n",
              "      <td>0.432500</td>\n",
              "      <td>0.107500</td>\n",
              "      <td>-0.5106</td>\n",
              "    </tr>\n",
              "    <tr>\n",
              "      <th>3</th>\n",
              "      <td>2001-01-04</td>\n",
              "      <td>the string that pulled stephen hawking to indi...</td>\n",
              "      <td>0.511540</td>\n",
              "      <td>0.127977</td>\n",
              "      <td>0.0717</td>\n",
              "    </tr>\n",
              "    <tr>\n",
              "      <th>4</th>\n",
              "      <td>2001-01-05</td>\n",
              "      <td>light combat craft takes india into club class...</td>\n",
              "      <td>0.464036</td>\n",
              "      <td>0.255190</td>\n",
              "      <td>0.9943</td>\n",
              "    </tr>\n",
              "    <tr>\n",
              "      <th>...</th>\n",
              "      <td>...</td>\n",
              "      <td>...</td>\n",
              "      <td>...</td>\n",
              "      <td>...</td>\n",
              "      <td>...</td>\n",
              "    </tr>\n",
              "    <tr>\n",
              "      <th>7075</th>\n",
              "      <td>2020-06-26</td>\n",
              "      <td>containment zone residents slam high prices ch...</td>\n",
              "      <td>0.370603</td>\n",
              "      <td>0.072293</td>\n",
              "      <td>-0.9999</td>\n",
              "    </tr>\n",
              "    <tr>\n",
              "      <th>7076</th>\n",
              "      <td>2020-06-27</td>\n",
              "      <td>like me i wont let you have a toxic relationsh...</td>\n",
              "      <td>0.380464</td>\n",
              "      <td>0.084433</td>\n",
              "      <td>-0.9999</td>\n",
              "    </tr>\n",
              "    <tr>\n",
              "      <th>7077</th>\n",
              "      <td>2020-06-28</td>\n",
              "      <td>atanu ghosh plans to rewrite old scripts to ma...</td>\n",
              "      <td>0.386141</td>\n",
              "      <td>0.074113</td>\n",
              "      <td>-0.9998</td>\n",
              "    </tr>\n",
              "    <tr>\n",
              "      <th>7078</th>\n",
              "      <td>2020-06-29</td>\n",
              "      <td>hot and stylish bikini looks of katrina kaifan...</td>\n",
              "      <td>0.380647</td>\n",
              "      <td>0.056804</td>\n",
              "      <td>-0.9997</td>\n",
              "    </tr>\n",
              "    <tr>\n",
              "      <th>7079</th>\n",
              "      <td>2020-06-30</td>\n",
              "      <td>detective byomkesh bakshy edge of tomorrowfirs...</td>\n",
              "      <td>0.375745</td>\n",
              "      <td>0.070235</td>\n",
              "      <td>-0.9999</td>\n",
              "    </tr>\n",
              "  </tbody>\n",
              "</table>\n",
              "<p>7080 rows × 5 columns</p>\n",
              "</div>"
            ],
            "text/plain": [
              "           Date  ... Compound\n",
              "0    2001-01-01  ...  -0.0000\n",
              "1    2001-01-02  ...  -0.9322\n",
              "2    2001-01-03  ...  -0.5106\n",
              "3    2001-01-04  ...   0.0717\n",
              "4    2001-01-05  ...   0.9943\n",
              "...         ...  ...      ...\n",
              "7075 2020-06-26  ...  -0.9999\n",
              "7076 2020-06-27  ...  -0.9999\n",
              "7077 2020-06-28  ...  -0.9998\n",
              "7078 2020-06-29  ...  -0.9997\n",
              "7079 2020-06-30  ...  -0.9999\n",
              "\n",
              "[7080 rows x 5 columns]"
            ]
          },
          "metadata": {
            "tags": []
          },
          "execution_count": 21
        }
      ]
    },
    {
      "cell_type": "code",
      "metadata": {
        "id": "Qtmhp8GqCAxM",
        "colab": {
          "base_uri": "https://localhost:8080/",
          "height": 419
        },
        "outputId": "7d39a32a-1488-44df-9678-59e1a346f32a"
      },
      "source": [
        "News['Negative'] = [sia.polarity_scores(v)['neg'] for v in News['headline']]\r\n",
        "News"
      ],
      "execution_count": null,
      "outputs": [
        {
          "output_type": "execute_result",
          "data": {
            "text/html": [
              "<div>\n",
              "<style scoped>\n",
              "    .dataframe tbody tr th:only-of-type {\n",
              "        vertical-align: middle;\n",
              "    }\n",
              "\n",
              "    .dataframe tbody tr th {\n",
              "        vertical-align: top;\n",
              "    }\n",
              "\n",
              "    .dataframe thead th {\n",
              "        text-align: right;\n",
              "    }\n",
              "</style>\n",
              "<table border=\"1\" class=\"dataframe\">\n",
              "  <thead>\n",
              "    <tr style=\"text-align: right;\">\n",
              "      <th></th>\n",
              "      <th>Date</th>\n",
              "      <th>headline</th>\n",
              "      <th>Subjectivity</th>\n",
              "      <th>Polarity</th>\n",
              "      <th>Compound</th>\n",
              "      <th>Negative</th>\n",
              "    </tr>\n",
              "  </thead>\n",
              "  <tbody>\n",
              "    <tr>\n",
              "      <th>0</th>\n",
              "      <td>2001-01-01</td>\n",
              "      <td>win over cena satisfying but defeating underta...</td>\n",
              "      <td>0.633333</td>\n",
              "      <td>0.433333</td>\n",
              "      <td>-0.0000</td>\n",
              "      <td>0.230</td>\n",
              "    </tr>\n",
              "    <tr>\n",
              "      <th>1</th>\n",
              "      <td>2001-01-02</td>\n",
              "      <td>status quo will not be disturbed at ayodhya sa...</td>\n",
              "      <td>0.262963</td>\n",
              "      <td>0.104630</td>\n",
              "      <td>-0.9322</td>\n",
              "      <td>0.104</td>\n",
              "    </tr>\n",
              "    <tr>\n",
              "      <th>2</th>\n",
              "      <td>2001-01-03</td>\n",
              "      <td>powerless north india gropes in the darkthink ...</td>\n",
              "      <td>0.432500</td>\n",
              "      <td>0.107500</td>\n",
              "      <td>-0.5106</td>\n",
              "      <td>0.115</td>\n",
              "    </tr>\n",
              "    <tr>\n",
              "      <th>3</th>\n",
              "      <td>2001-01-04</td>\n",
              "      <td>the string that pulled stephen hawking to indi...</td>\n",
              "      <td>0.511540</td>\n",
              "      <td>0.127977</td>\n",
              "      <td>0.0717</td>\n",
              "      <td>0.096</td>\n",
              "    </tr>\n",
              "    <tr>\n",
              "      <th>4</th>\n",
              "      <td>2001-01-05</td>\n",
              "      <td>light combat craft takes india into club class...</td>\n",
              "      <td>0.464036</td>\n",
              "      <td>0.255190</td>\n",
              "      <td>0.9943</td>\n",
              "      <td>0.111</td>\n",
              "    </tr>\n",
              "    <tr>\n",
              "      <th>...</th>\n",
              "      <td>...</td>\n",
              "      <td>...</td>\n",
              "      <td>...</td>\n",
              "      <td>...</td>\n",
              "      <td>...</td>\n",
              "      <td>...</td>\n",
              "    </tr>\n",
              "    <tr>\n",
              "      <th>7075</th>\n",
              "      <td>2020-06-26</td>\n",
              "      <td>containment zone residents slam high prices ch...</td>\n",
              "      <td>0.370603</td>\n",
              "      <td>0.072293</td>\n",
              "      <td>-0.9999</td>\n",
              "      <td>0.160</td>\n",
              "    </tr>\n",
              "    <tr>\n",
              "      <th>7076</th>\n",
              "      <td>2020-06-27</td>\n",
              "      <td>like me i wont let you have a toxic relationsh...</td>\n",
              "      <td>0.380464</td>\n",
              "      <td>0.084433</td>\n",
              "      <td>-0.9999</td>\n",
              "      <td>0.148</td>\n",
              "    </tr>\n",
              "    <tr>\n",
              "      <th>7077</th>\n",
              "      <td>2020-06-28</td>\n",
              "      <td>atanu ghosh plans to rewrite old scripts to ma...</td>\n",
              "      <td>0.386141</td>\n",
              "      <td>0.074113</td>\n",
              "      <td>-0.9998</td>\n",
              "      <td>0.133</td>\n",
              "    </tr>\n",
              "    <tr>\n",
              "      <th>7078</th>\n",
              "      <td>2020-06-29</td>\n",
              "      <td>hot and stylish bikini looks of katrina kaifan...</td>\n",
              "      <td>0.380647</td>\n",
              "      <td>0.056804</td>\n",
              "      <td>-0.9997</td>\n",
              "      <td>0.128</td>\n",
              "    </tr>\n",
              "    <tr>\n",
              "      <th>7079</th>\n",
              "      <td>2020-06-30</td>\n",
              "      <td>detective byomkesh bakshy edge of tomorrowfirs...</td>\n",
              "      <td>0.375745</td>\n",
              "      <td>0.070235</td>\n",
              "      <td>-0.9999</td>\n",
              "      <td>0.128</td>\n",
              "    </tr>\n",
              "  </tbody>\n",
              "</table>\n",
              "<p>7080 rows × 6 columns</p>\n",
              "</div>"
            ],
            "text/plain": [
              "           Date  ... Negative\n",
              "0    2001-01-01  ...    0.230\n",
              "1    2001-01-02  ...    0.104\n",
              "2    2001-01-03  ...    0.115\n",
              "3    2001-01-04  ...    0.096\n",
              "4    2001-01-05  ...    0.111\n",
              "...         ...  ...      ...\n",
              "7075 2020-06-26  ...    0.160\n",
              "7076 2020-06-27  ...    0.148\n",
              "7077 2020-06-28  ...    0.133\n",
              "7078 2020-06-29  ...    0.128\n",
              "7079 2020-06-30  ...    0.128\n",
              "\n",
              "[7080 rows x 6 columns]"
            ]
          },
          "metadata": {
            "tags": []
          },
          "execution_count": 22
        }
      ]
    },
    {
      "cell_type": "code",
      "metadata": {
        "id": "OqrIe8MBCP32",
        "colab": {
          "base_uri": "https://localhost:8080/",
          "height": 419
        },
        "outputId": "ee498321-180f-4e52-d9df-47be166d608d"
      },
      "source": [
        "News['Neutral'] = [sia.polarity_scores(v)['neu'] for v in News['headline']]\r\n",
        "News"
      ],
      "execution_count": null,
      "outputs": [
        {
          "output_type": "execute_result",
          "data": {
            "text/html": [
              "<div>\n",
              "<style scoped>\n",
              "    .dataframe tbody tr th:only-of-type {\n",
              "        vertical-align: middle;\n",
              "    }\n",
              "\n",
              "    .dataframe tbody tr th {\n",
              "        vertical-align: top;\n",
              "    }\n",
              "\n",
              "    .dataframe thead th {\n",
              "        text-align: right;\n",
              "    }\n",
              "</style>\n",
              "<table border=\"1\" class=\"dataframe\">\n",
              "  <thead>\n",
              "    <tr style=\"text-align: right;\">\n",
              "      <th></th>\n",
              "      <th>Date</th>\n",
              "      <th>headline</th>\n",
              "      <th>Subjectivity</th>\n",
              "      <th>Polarity</th>\n",
              "      <th>Compound</th>\n",
              "      <th>Negative</th>\n",
              "      <th>Neutral</th>\n",
              "    </tr>\n",
              "  </thead>\n",
              "  <tbody>\n",
              "    <tr>\n",
              "      <th>0</th>\n",
              "      <td>2001-01-01</td>\n",
              "      <td>win over cena satisfying but defeating underta...</td>\n",
              "      <td>0.633333</td>\n",
              "      <td>0.433333</td>\n",
              "      <td>-0.0000</td>\n",
              "      <td>0.230</td>\n",
              "      <td>0.473</td>\n",
              "    </tr>\n",
              "    <tr>\n",
              "      <th>1</th>\n",
              "      <td>2001-01-02</td>\n",
              "      <td>status quo will not be disturbed at ayodhya sa...</td>\n",
              "      <td>0.262963</td>\n",
              "      <td>0.104630</td>\n",
              "      <td>-0.9322</td>\n",
              "      <td>0.104</td>\n",
              "      <td>0.824</td>\n",
              "    </tr>\n",
              "    <tr>\n",
              "      <th>2</th>\n",
              "      <td>2001-01-03</td>\n",
              "      <td>powerless north india gropes in the darkthink ...</td>\n",
              "      <td>0.432500</td>\n",
              "      <td>0.107500</td>\n",
              "      <td>-0.5106</td>\n",
              "      <td>0.115</td>\n",
              "      <td>0.792</td>\n",
              "    </tr>\n",
              "    <tr>\n",
              "      <th>3</th>\n",
              "      <td>2001-01-04</td>\n",
              "      <td>the string that pulled stephen hawking to indi...</td>\n",
              "      <td>0.511540</td>\n",
              "      <td>0.127977</td>\n",
              "      <td>0.0717</td>\n",
              "      <td>0.096</td>\n",
              "      <td>0.816</td>\n",
              "    </tr>\n",
              "    <tr>\n",
              "      <th>4</th>\n",
              "      <td>2001-01-05</td>\n",
              "      <td>light combat craft takes india into club class...</td>\n",
              "      <td>0.464036</td>\n",
              "      <td>0.255190</td>\n",
              "      <td>0.9943</td>\n",
              "      <td>0.111</td>\n",
              "      <td>0.715</td>\n",
              "    </tr>\n",
              "    <tr>\n",
              "      <th>...</th>\n",
              "      <td>...</td>\n",
              "      <td>...</td>\n",
              "      <td>...</td>\n",
              "      <td>...</td>\n",
              "      <td>...</td>\n",
              "      <td>...</td>\n",
              "      <td>...</td>\n",
              "    </tr>\n",
              "    <tr>\n",
              "      <th>7075</th>\n",
              "      <td>2020-06-26</td>\n",
              "      <td>containment zone residents slam high prices ch...</td>\n",
              "      <td>0.370603</td>\n",
              "      <td>0.072293</td>\n",
              "      <td>-0.9999</td>\n",
              "      <td>0.160</td>\n",
              "      <td>0.752</td>\n",
              "    </tr>\n",
              "    <tr>\n",
              "      <th>7076</th>\n",
              "      <td>2020-06-27</td>\n",
              "      <td>like me i wont let you have a toxic relationsh...</td>\n",
              "      <td>0.380464</td>\n",
              "      <td>0.084433</td>\n",
              "      <td>-0.9999</td>\n",
              "      <td>0.148</td>\n",
              "      <td>0.759</td>\n",
              "    </tr>\n",
              "    <tr>\n",
              "      <th>7077</th>\n",
              "      <td>2020-06-28</td>\n",
              "      <td>atanu ghosh plans to rewrite old scripts to ma...</td>\n",
              "      <td>0.386141</td>\n",
              "      <td>0.074113</td>\n",
              "      <td>-0.9998</td>\n",
              "      <td>0.133</td>\n",
              "      <td>0.793</td>\n",
              "    </tr>\n",
              "    <tr>\n",
              "      <th>7078</th>\n",
              "      <td>2020-06-29</td>\n",
              "      <td>hot and stylish bikini looks of katrina kaifan...</td>\n",
              "      <td>0.380647</td>\n",
              "      <td>0.056804</td>\n",
              "      <td>-0.9997</td>\n",
              "      <td>0.128</td>\n",
              "      <td>0.787</td>\n",
              "    </tr>\n",
              "    <tr>\n",
              "      <th>7079</th>\n",
              "      <td>2020-06-30</td>\n",
              "      <td>detective byomkesh bakshy edge of tomorrowfirs...</td>\n",
              "      <td>0.375745</td>\n",
              "      <td>0.070235</td>\n",
              "      <td>-0.9999</td>\n",
              "      <td>0.128</td>\n",
              "      <td>0.807</td>\n",
              "    </tr>\n",
              "  </tbody>\n",
              "</table>\n",
              "<p>7080 rows × 7 columns</p>\n",
              "</div>"
            ],
            "text/plain": [
              "           Date  ... Neutral\n",
              "0    2001-01-01  ...   0.473\n",
              "1    2001-01-02  ...   0.824\n",
              "2    2001-01-03  ...   0.792\n",
              "3    2001-01-04  ...   0.816\n",
              "4    2001-01-05  ...   0.715\n",
              "...         ...  ...     ...\n",
              "7075 2020-06-26  ...   0.752\n",
              "7076 2020-06-27  ...   0.759\n",
              "7077 2020-06-28  ...   0.793\n",
              "7078 2020-06-29  ...   0.787\n",
              "7079 2020-06-30  ...   0.807\n",
              "\n",
              "[7080 rows x 7 columns]"
            ]
          },
          "metadata": {
            "tags": []
          },
          "execution_count": 23
        }
      ]
    },
    {
      "cell_type": "code",
      "metadata": {
        "id": "BffLKPEWCbwL",
        "colab": {
          "base_uri": "https://localhost:8080/",
          "height": 419
        },
        "outputId": "a5d8ba35-9a60-4803-db5f-9edb1f4f1ab2"
      },
      "source": [
        "News['Positive'] = [sia.polarity_scores(v)['pos'] for v in News['headline']]\r\n",
        "News"
      ],
      "execution_count": null,
      "outputs": [
        {
          "output_type": "execute_result",
          "data": {
            "text/html": [
              "<div>\n",
              "<style scoped>\n",
              "    .dataframe tbody tr th:only-of-type {\n",
              "        vertical-align: middle;\n",
              "    }\n",
              "\n",
              "    .dataframe tbody tr th {\n",
              "        vertical-align: top;\n",
              "    }\n",
              "\n",
              "    .dataframe thead th {\n",
              "        text-align: right;\n",
              "    }\n",
              "</style>\n",
              "<table border=\"1\" class=\"dataframe\">\n",
              "  <thead>\n",
              "    <tr style=\"text-align: right;\">\n",
              "      <th></th>\n",
              "      <th>Date</th>\n",
              "      <th>headline</th>\n",
              "      <th>Subjectivity</th>\n",
              "      <th>Polarity</th>\n",
              "      <th>Compound</th>\n",
              "      <th>Negative</th>\n",
              "      <th>Neutral</th>\n",
              "      <th>Positive</th>\n",
              "    </tr>\n",
              "  </thead>\n",
              "  <tbody>\n",
              "    <tr>\n",
              "      <th>0</th>\n",
              "      <td>2001-01-01</td>\n",
              "      <td>win over cena satisfying but defeating underta...</td>\n",
              "      <td>0.633333</td>\n",
              "      <td>0.433333</td>\n",
              "      <td>-0.0000</td>\n",
              "      <td>0.230</td>\n",
              "      <td>0.473</td>\n",
              "      <td>0.297</td>\n",
              "    </tr>\n",
              "    <tr>\n",
              "      <th>1</th>\n",
              "      <td>2001-01-02</td>\n",
              "      <td>status quo will not be disturbed at ayodhya sa...</td>\n",
              "      <td>0.262963</td>\n",
              "      <td>0.104630</td>\n",
              "      <td>-0.9322</td>\n",
              "      <td>0.104</td>\n",
              "      <td>0.824</td>\n",
              "      <td>0.072</td>\n",
              "    </tr>\n",
              "    <tr>\n",
              "      <th>2</th>\n",
              "      <td>2001-01-03</td>\n",
              "      <td>powerless north india gropes in the darkthink ...</td>\n",
              "      <td>0.432500</td>\n",
              "      <td>0.107500</td>\n",
              "      <td>-0.5106</td>\n",
              "      <td>0.115</td>\n",
              "      <td>0.792</td>\n",
              "      <td>0.093</td>\n",
              "    </tr>\n",
              "    <tr>\n",
              "      <th>3</th>\n",
              "      <td>2001-01-04</td>\n",
              "      <td>the string that pulled stephen hawking to indi...</td>\n",
              "      <td>0.511540</td>\n",
              "      <td>0.127977</td>\n",
              "      <td>0.0717</td>\n",
              "      <td>0.096</td>\n",
              "      <td>0.816</td>\n",
              "      <td>0.088</td>\n",
              "    </tr>\n",
              "    <tr>\n",
              "      <th>4</th>\n",
              "      <td>2001-01-05</td>\n",
              "      <td>light combat craft takes india into club class...</td>\n",
              "      <td>0.464036</td>\n",
              "      <td>0.255190</td>\n",
              "      <td>0.9943</td>\n",
              "      <td>0.111</td>\n",
              "      <td>0.715</td>\n",
              "      <td>0.173</td>\n",
              "    </tr>\n",
              "    <tr>\n",
              "      <th>...</th>\n",
              "      <td>...</td>\n",
              "      <td>...</td>\n",
              "      <td>...</td>\n",
              "      <td>...</td>\n",
              "      <td>...</td>\n",
              "      <td>...</td>\n",
              "      <td>...</td>\n",
              "      <td>...</td>\n",
              "    </tr>\n",
              "    <tr>\n",
              "      <th>7075</th>\n",
              "      <td>2020-06-26</td>\n",
              "      <td>containment zone residents slam high prices ch...</td>\n",
              "      <td>0.370603</td>\n",
              "      <td>0.072293</td>\n",
              "      <td>-0.9999</td>\n",
              "      <td>0.160</td>\n",
              "      <td>0.752</td>\n",
              "      <td>0.088</td>\n",
              "    </tr>\n",
              "    <tr>\n",
              "      <th>7076</th>\n",
              "      <td>2020-06-27</td>\n",
              "      <td>like me i wont let you have a toxic relationsh...</td>\n",
              "      <td>0.380464</td>\n",
              "      <td>0.084433</td>\n",
              "      <td>-0.9999</td>\n",
              "      <td>0.148</td>\n",
              "      <td>0.759</td>\n",
              "      <td>0.093</td>\n",
              "    </tr>\n",
              "    <tr>\n",
              "      <th>7077</th>\n",
              "      <td>2020-06-28</td>\n",
              "      <td>atanu ghosh plans to rewrite old scripts to ma...</td>\n",
              "      <td>0.386141</td>\n",
              "      <td>0.074113</td>\n",
              "      <td>-0.9998</td>\n",
              "      <td>0.133</td>\n",
              "      <td>0.793</td>\n",
              "      <td>0.074</td>\n",
              "    </tr>\n",
              "    <tr>\n",
              "      <th>7078</th>\n",
              "      <td>2020-06-29</td>\n",
              "      <td>hot and stylish bikini looks of katrina kaifan...</td>\n",
              "      <td>0.380647</td>\n",
              "      <td>0.056804</td>\n",
              "      <td>-0.9997</td>\n",
              "      <td>0.128</td>\n",
              "      <td>0.787</td>\n",
              "      <td>0.085</td>\n",
              "    </tr>\n",
              "    <tr>\n",
              "      <th>7079</th>\n",
              "      <td>2020-06-30</td>\n",
              "      <td>detective byomkesh bakshy edge of tomorrowfirs...</td>\n",
              "      <td>0.375745</td>\n",
              "      <td>0.070235</td>\n",
              "      <td>-0.9999</td>\n",
              "      <td>0.128</td>\n",
              "      <td>0.807</td>\n",
              "      <td>0.065</td>\n",
              "    </tr>\n",
              "  </tbody>\n",
              "</table>\n",
              "<p>7080 rows × 8 columns</p>\n",
              "</div>"
            ],
            "text/plain": [
              "           Date  ... Positive\n",
              "0    2001-01-01  ...    0.297\n",
              "1    2001-01-02  ...    0.072\n",
              "2    2001-01-03  ...    0.093\n",
              "3    2001-01-04  ...    0.088\n",
              "4    2001-01-05  ...    0.173\n",
              "...         ...  ...      ...\n",
              "7075 2020-06-26  ...    0.088\n",
              "7076 2020-06-27  ...    0.093\n",
              "7077 2020-06-28  ...    0.074\n",
              "7078 2020-06-29  ...    0.085\n",
              "7079 2020-06-30  ...    0.065\n",
              "\n",
              "[7080 rows x 8 columns]"
            ]
          },
          "metadata": {
            "tags": []
          },
          "execution_count": 24
        }
      ]
    },
    {
      "cell_type": "code",
      "metadata": {
        "colab": {
          "base_uri": "https://localhost:8080/",
          "height": 204
        },
        "id": "aGkzwDc_tI5L",
        "outputId": "747e1751-b710-41a5-c713-248d249a9459"
      },
      "source": [
        "df='/content/drive/MyDrive/data/^BSESN (2).csv'\r\n",
        "Stock=pd.read_csv(df)\r\n",
        "Stock.head(5)"
      ],
      "execution_count": null,
      "outputs": [
        {
          "output_type": "execute_result",
          "data": {
            "text/html": [
              "<div>\n",
              "<style scoped>\n",
              "    .dataframe tbody tr th:only-of-type {\n",
              "        vertical-align: middle;\n",
              "    }\n",
              "\n",
              "    .dataframe tbody tr th {\n",
              "        vertical-align: top;\n",
              "    }\n",
              "\n",
              "    .dataframe thead th {\n",
              "        text-align: right;\n",
              "    }\n",
              "</style>\n",
              "<table border=\"1\" class=\"dataframe\">\n",
              "  <thead>\n",
              "    <tr style=\"text-align: right;\">\n",
              "      <th></th>\n",
              "      <th>Date</th>\n",
              "      <th>Open</th>\n",
              "      <th>High</th>\n",
              "      <th>Low</th>\n",
              "      <th>Close</th>\n",
              "      <th>Adj Close</th>\n",
              "      <th>Volume</th>\n",
              "    </tr>\n",
              "  </thead>\n",
              "  <tbody>\n",
              "    <tr>\n",
              "      <th>0</th>\n",
              "      <td>2016-01-20</td>\n",
              "      <td>24325.769531</td>\n",
              "      <td>24325.769531</td>\n",
              "      <td>23839.759766</td>\n",
              "      <td>24062.039063</td>\n",
              "      <td>24062.039063</td>\n",
              "      <td>12800.0</td>\n",
              "    </tr>\n",
              "    <tr>\n",
              "      <th>1</th>\n",
              "      <td>2016-01-21</td>\n",
              "      <td>24194.750000</td>\n",
              "      <td>24351.830078</td>\n",
              "      <td>23862.000000</td>\n",
              "      <td>23962.210938</td>\n",
              "      <td>23962.210938</td>\n",
              "      <td>13200.0</td>\n",
              "    </tr>\n",
              "    <tr>\n",
              "      <th>2</th>\n",
              "      <td>2016-01-22</td>\n",
              "      <td>24122.060547</td>\n",
              "      <td>24472.880859</td>\n",
              "      <td>24120.039063</td>\n",
              "      <td>24435.660156</td>\n",
              "      <td>24435.660156</td>\n",
              "      <td>10100.0</td>\n",
              "    </tr>\n",
              "    <tr>\n",
              "      <th>3</th>\n",
              "      <td>2016-01-25</td>\n",
              "      <td>24540.970703</td>\n",
              "      <td>24650.570313</td>\n",
              "      <td>24433.669922</td>\n",
              "      <td>24485.949219</td>\n",
              "      <td>24485.949219</td>\n",
              "      <td>8900.0</td>\n",
              "    </tr>\n",
              "    <tr>\n",
              "      <th>4</th>\n",
              "      <td>2016-01-27</td>\n",
              "      <td>24643.130859</td>\n",
              "      <td>24645.699219</td>\n",
              "      <td>24458.130859</td>\n",
              "      <td>24492.390625</td>\n",
              "      <td>24492.390625</td>\n",
              "      <td>8500.0</td>\n",
              "    </tr>\n",
              "  </tbody>\n",
              "</table>\n",
              "</div>"
            ],
            "text/plain": [
              "         Date          Open          High  ...         Close     Adj Close   Volume\n",
              "0  2016-01-20  24325.769531  24325.769531  ...  24062.039063  24062.039063  12800.0\n",
              "1  2016-01-21  24194.750000  24351.830078  ...  23962.210938  23962.210938  13200.0\n",
              "2  2016-01-22  24122.060547  24472.880859  ...  24435.660156  24435.660156  10100.0\n",
              "3  2016-01-25  24540.970703  24650.570313  ...  24485.949219  24485.949219   8900.0\n",
              "4  2016-01-27  24643.130859  24645.699219  ...  24492.390625  24492.390625   8500.0\n",
              "\n",
              "[5 rows x 7 columns]"
            ]
          },
          "metadata": {
            "tags": []
          },
          "execution_count": 25
        }
      ]
    },
    {
      "cell_type": "code",
      "metadata": {
        "colab": {
          "base_uri": "https://localhost:8080/",
          "height": 535
        },
        "id": "Rf30NauNvJmK",
        "outputId": "7107e2e6-efb5-4267-ed14-1de3ff878687"
      },
      "source": [
        "Stock.info()\r\n",
        "Stock.describe()"
      ],
      "execution_count": null,
      "outputs": [
        {
          "output_type": "stream",
          "text": [
            "<class 'pandas.core.frame.DataFrame'>\n",
            "RangeIndex: 1234 entries, 0 to 1233\n",
            "Data columns (total 7 columns):\n",
            " #   Column     Non-Null Count  Dtype  \n",
            "---  ------     --------------  -----  \n",
            " 0   Date       1234 non-null   object \n",
            " 1   Open       1229 non-null   float64\n",
            " 2   High       1229 non-null   float64\n",
            " 3   Low        1229 non-null   float64\n",
            " 4   Close      1229 non-null   float64\n",
            " 5   Adj Close  1229 non-null   float64\n",
            " 6   Volume     1229 non-null   float64\n",
            "dtypes: float64(6), object(1)\n",
            "memory usage: 67.6+ KB\n"
          ],
          "name": "stdout"
        },
        {
          "output_type": "execute_result",
          "data": {
            "text/html": [
              "<div>\n",
              "<style scoped>\n",
              "    .dataframe tbody tr th:only-of-type {\n",
              "        vertical-align: middle;\n",
              "    }\n",
              "\n",
              "    .dataframe tbody tr th {\n",
              "        vertical-align: top;\n",
              "    }\n",
              "\n",
              "    .dataframe thead th {\n",
              "        text-align: right;\n",
              "    }\n",
              "</style>\n",
              "<table border=\"1\" class=\"dataframe\">\n",
              "  <thead>\n",
              "    <tr style=\"text-align: right;\">\n",
              "      <th></th>\n",
              "      <th>Open</th>\n",
              "      <th>High</th>\n",
              "      <th>Low</th>\n",
              "      <th>Close</th>\n",
              "      <th>Adj Close</th>\n",
              "      <th>Volume</th>\n",
              "    </tr>\n",
              "  </thead>\n",
              "  <tbody>\n",
              "    <tr>\n",
              "      <th>count</th>\n",
              "      <td>1229.000000</td>\n",
              "      <td>1229.000000</td>\n",
              "      <td>1229.000000</td>\n",
              "      <td>1229.000000</td>\n",
              "      <td>1229.000000</td>\n",
              "      <td>1.229000e+03</td>\n",
              "    </tr>\n",
              "    <tr>\n",
              "      <th>mean</th>\n",
              "      <td>34069.394511</td>\n",
              "      <td>34228.963053</td>\n",
              "      <td>33830.549378</td>\n",
              "      <td>34026.018707</td>\n",
              "      <td>34026.018707</td>\n",
              "      <td>2.738539e+05</td>\n",
              "    </tr>\n",
              "    <tr>\n",
              "      <th>std</th>\n",
              "      <td>5386.175681</td>\n",
              "      <td>5396.878112</td>\n",
              "      <td>5349.223226</td>\n",
              "      <td>5377.354747</td>\n",
              "      <td>5377.354747</td>\n",
              "      <td>2.123738e+06</td>\n",
              "    </tr>\n",
              "    <tr>\n",
              "      <th>min</th>\n",
              "      <td>23060.390625</td>\n",
              "      <td>23142.960938</td>\n",
              "      <td>22494.609375</td>\n",
              "      <td>22951.830078</td>\n",
              "      <td>22951.830078</td>\n",
              "      <td>2.500000e+03</td>\n",
              "    </tr>\n",
              "    <tr>\n",
              "      <th>25%</th>\n",
              "      <td>29538.029297</td>\n",
              "      <td>29701.189453</td>\n",
              "      <td>29388.970703</td>\n",
              "      <td>29585.849609</td>\n",
              "      <td>29585.849609</td>\n",
              "      <td>1.070000e+04</td>\n",
              "    </tr>\n",
              "    <tr>\n",
              "      <th>50%</th>\n",
              "      <td>34493.691406</td>\n",
              "      <td>34666.328125</td>\n",
              "      <td>34279.781250</td>\n",
              "      <td>34433.070313</td>\n",
              "      <td>34433.070313</td>\n",
              "      <td>1.450000e+04</td>\n",
              "    </tr>\n",
              "    <tr>\n",
              "      <th>75%</th>\n",
              "      <td>38084.699219</td>\n",
              "      <td>38250.609375</td>\n",
              "      <td>37787.378906</td>\n",
              "      <td>38025.449219</td>\n",
              "      <td>38025.449219</td>\n",
              "      <td>2.010000e+04</td>\n",
              "    </tr>\n",
              "    <tr>\n",
              "      <th>max</th>\n",
              "      <td>49763.929688</td>\n",
              "      <td>49795.191406</td>\n",
              "      <td>49182.371094</td>\n",
              "      <td>49584.160156</td>\n",
              "      <td>49584.160156</td>\n",
              "      <td>3.181510e+07</td>\n",
              "    </tr>\n",
              "  </tbody>\n",
              "</table>\n",
              "</div>"
            ],
            "text/plain": [
              "               Open          High  ...     Adj Close        Volume\n",
              "count   1229.000000   1229.000000  ...   1229.000000  1.229000e+03\n",
              "mean   34069.394511  34228.963053  ...  34026.018707  2.738539e+05\n",
              "std     5386.175681   5396.878112  ...   5377.354747  2.123738e+06\n",
              "min    23060.390625  23142.960938  ...  22951.830078  2.500000e+03\n",
              "25%    29538.029297  29701.189453  ...  29585.849609  1.070000e+04\n",
              "50%    34493.691406  34666.328125  ...  34433.070313  1.450000e+04\n",
              "75%    38084.699219  38250.609375  ...  38025.449219  2.010000e+04\n",
              "max    49763.929688  49795.191406  ...  49584.160156  3.181510e+07\n",
              "\n",
              "[8 rows x 6 columns]"
            ]
          },
          "metadata": {
            "tags": []
          },
          "execution_count": 26
        }
      ]
    },
    {
      "cell_type": "code",
      "metadata": {
        "colab": {
          "base_uri": "https://localhost:8080/"
        },
        "id": "0srEUPCOvbQk",
        "outputId": "679f6b27-01a7-4b10-ebbb-0df9b1992fb6"
      },
      "source": [
        "Stock.shape"
      ],
      "execution_count": null,
      "outputs": [
        {
          "output_type": "execute_result",
          "data": {
            "text/plain": [
              "(1234, 7)"
            ]
          },
          "metadata": {
            "tags": []
          },
          "execution_count": 27
        }
      ]
    },
    {
      "cell_type": "code",
      "metadata": {
        "colab": {
          "base_uri": "https://localhost:8080/"
        },
        "id": "Z18QJu5RvN_U",
        "outputId": "a4a000e0-f289-47e4-de31-b65ef08bb919"
      },
      "source": [
        "Stock.isnull().sum()"
      ],
      "execution_count": null,
      "outputs": [
        {
          "output_type": "execute_result",
          "data": {
            "text/plain": [
              "Date         0\n",
              "Open         5\n",
              "High         5\n",
              "Low          5\n",
              "Close        5\n",
              "Adj Close    5\n",
              "Volume       5\n",
              "dtype: int64"
            ]
          },
          "metadata": {
            "tags": []
          },
          "execution_count": 28
        }
      ]
    },
    {
      "cell_type": "code",
      "metadata": {
        "colab": {
          "base_uri": "https://localhost:8080/"
        },
        "id": "Sas6OsZevsn0",
        "outputId": "69ffeccd-b7ca-437c-bf85-8907cf3a5422"
      },
      "source": [
        "Stock.Date=pd.to_datetime(Stock.Date)\r\n",
        "Stock.info()"
      ],
      "execution_count": null,
      "outputs": [
        {
          "output_type": "stream",
          "text": [
            "<class 'pandas.core.frame.DataFrame'>\n",
            "RangeIndex: 1234 entries, 0 to 1233\n",
            "Data columns (total 7 columns):\n",
            " #   Column     Non-Null Count  Dtype         \n",
            "---  ------     --------------  -----         \n",
            " 0   Date       1234 non-null   datetime64[ns]\n",
            " 1   Open       1229 non-null   float64       \n",
            " 2   High       1229 non-null   float64       \n",
            " 3   Low        1229 non-null   float64       \n",
            " 4   Close      1229 non-null   float64       \n",
            " 5   Adj Close  1229 non-null   float64       \n",
            " 6   Volume     1229 non-null   float64       \n",
            "dtypes: datetime64[ns](1), float64(6)\n",
            "memory usage: 67.6 KB\n"
          ],
          "name": "stdout"
        }
      ]
    },
    {
      "cell_type": "code",
      "metadata": {
        "colab": {
          "base_uri": "https://localhost:8080/"
        },
        "id": "TZ3qg1M2ykUs",
        "outputId": "07aaa746-cd9e-4eb2-ce16-70d92ef8d4fe"
      },
      "source": [
        "Stock.columns"
      ],
      "execution_count": null,
      "outputs": [
        {
          "output_type": "execute_result",
          "data": {
            "text/plain": [
              "Index(['Date', 'Open', 'High', 'Low', 'Close', 'Adj Close', 'Volume'], dtype='object')"
            ]
          },
          "metadata": {
            "tags": []
          },
          "execution_count": 30
        }
      ]
    },
    {
      "cell_type": "code",
      "metadata": {
        "colab": {
          "base_uri": "https://localhost:8080/",
          "height": 450
        },
        "id": "_jz5FlawzBF8",
        "outputId": "5ae36242-ae1b-410a-dcb5-8cca476ed470"
      },
      "source": [
        "Stock=Stock.set_index('Date')\r\n",
        "Stock"
      ],
      "execution_count": null,
      "outputs": [
        {
          "output_type": "execute_result",
          "data": {
            "text/html": [
              "<div>\n",
              "<style scoped>\n",
              "    .dataframe tbody tr th:only-of-type {\n",
              "        vertical-align: middle;\n",
              "    }\n",
              "\n",
              "    .dataframe tbody tr th {\n",
              "        vertical-align: top;\n",
              "    }\n",
              "\n",
              "    .dataframe thead th {\n",
              "        text-align: right;\n",
              "    }\n",
              "</style>\n",
              "<table border=\"1\" class=\"dataframe\">\n",
              "  <thead>\n",
              "    <tr style=\"text-align: right;\">\n",
              "      <th></th>\n",
              "      <th>Open</th>\n",
              "      <th>High</th>\n",
              "      <th>Low</th>\n",
              "      <th>Close</th>\n",
              "      <th>Adj Close</th>\n",
              "      <th>Volume</th>\n",
              "    </tr>\n",
              "    <tr>\n",
              "      <th>Date</th>\n",
              "      <th></th>\n",
              "      <th></th>\n",
              "      <th></th>\n",
              "      <th></th>\n",
              "      <th></th>\n",
              "      <th></th>\n",
              "    </tr>\n",
              "  </thead>\n",
              "  <tbody>\n",
              "    <tr>\n",
              "      <th>2016-01-20</th>\n",
              "      <td>24325.769531</td>\n",
              "      <td>24325.769531</td>\n",
              "      <td>23839.759766</td>\n",
              "      <td>24062.039063</td>\n",
              "      <td>24062.039063</td>\n",
              "      <td>12800.0</td>\n",
              "    </tr>\n",
              "    <tr>\n",
              "      <th>2016-01-21</th>\n",
              "      <td>24194.750000</td>\n",
              "      <td>24351.830078</td>\n",
              "      <td>23862.000000</td>\n",
              "      <td>23962.210938</td>\n",
              "      <td>23962.210938</td>\n",
              "      <td>13200.0</td>\n",
              "    </tr>\n",
              "    <tr>\n",
              "      <th>2016-01-22</th>\n",
              "      <td>24122.060547</td>\n",
              "      <td>24472.880859</td>\n",
              "      <td>24120.039063</td>\n",
              "      <td>24435.660156</td>\n",
              "      <td>24435.660156</td>\n",
              "      <td>10100.0</td>\n",
              "    </tr>\n",
              "    <tr>\n",
              "      <th>2016-01-25</th>\n",
              "      <td>24540.970703</td>\n",
              "      <td>24650.570313</td>\n",
              "      <td>24433.669922</td>\n",
              "      <td>24485.949219</td>\n",
              "      <td>24485.949219</td>\n",
              "      <td>8900.0</td>\n",
              "    </tr>\n",
              "    <tr>\n",
              "      <th>2016-01-27</th>\n",
              "      <td>24643.130859</td>\n",
              "      <td>24645.699219</td>\n",
              "      <td>24458.130859</td>\n",
              "      <td>24492.390625</td>\n",
              "      <td>24492.390625</td>\n",
              "      <td>8500.0</td>\n",
              "    </tr>\n",
              "    <tr>\n",
              "      <th>...</th>\n",
              "      <td>...</td>\n",
              "      <td>...</td>\n",
              "      <td>...</td>\n",
              "      <td>...</td>\n",
              "      <td>...</td>\n",
              "      <td>...</td>\n",
              "    </tr>\n",
              "    <tr>\n",
              "      <th>2021-01-13</th>\n",
              "      <td>49763.929688</td>\n",
              "      <td>49795.191406</td>\n",
              "      <td>49073.851563</td>\n",
              "      <td>49492.320313</td>\n",
              "      <td>49492.320313</td>\n",
              "      <td>27200.0</td>\n",
              "    </tr>\n",
              "    <tr>\n",
              "      <th>2021-01-14</th>\n",
              "      <td>49432.828125</td>\n",
              "      <td>49663.578125</td>\n",
              "      <td>49182.371094</td>\n",
              "      <td>49584.160156</td>\n",
              "      <td>49584.160156</td>\n",
              "      <td>24500.0</td>\n",
              "    </tr>\n",
              "    <tr>\n",
              "      <th>2021-01-15</th>\n",
              "      <td>49656.710938</td>\n",
              "      <td>49656.710938</td>\n",
              "      <td>48795.789063</td>\n",
              "      <td>49034.671875</td>\n",
              "      <td>49034.671875</td>\n",
              "      <td>14700.0</td>\n",
              "    </tr>\n",
              "    <tr>\n",
              "      <th>2021-01-18</th>\n",
              "      <td>49061.218750</td>\n",
              "      <td>49122.230469</td>\n",
              "      <td>48403.968750</td>\n",
              "      <td>48564.269531</td>\n",
              "      <td>48564.269531</td>\n",
              "      <td>16600.0</td>\n",
              "    </tr>\n",
              "    <tr>\n",
              "      <th>2021-01-19</th>\n",
              "      <td>48900.308594</td>\n",
              "      <td>49499.859375</td>\n",
              "      <td>48805.539063</td>\n",
              "      <td>49398.289063</td>\n",
              "      <td>49398.289063</td>\n",
              "      <td>11000.0</td>\n",
              "    </tr>\n",
              "  </tbody>\n",
              "</table>\n",
              "<p>1234 rows × 6 columns</p>\n",
              "</div>"
            ],
            "text/plain": [
              "                    Open          High  ...     Adj Close   Volume\n",
              "Date                                    ...                       \n",
              "2016-01-20  24325.769531  24325.769531  ...  24062.039063  12800.0\n",
              "2016-01-21  24194.750000  24351.830078  ...  23962.210938  13200.0\n",
              "2016-01-22  24122.060547  24472.880859  ...  24435.660156  10100.0\n",
              "2016-01-25  24540.970703  24650.570313  ...  24485.949219   8900.0\n",
              "2016-01-27  24643.130859  24645.699219  ...  24492.390625   8500.0\n",
              "...                  ...           ...  ...           ...      ...\n",
              "2021-01-13  49763.929688  49795.191406  ...  49492.320313  27200.0\n",
              "2021-01-14  49432.828125  49663.578125  ...  49584.160156  24500.0\n",
              "2021-01-15  49656.710938  49656.710938  ...  49034.671875  14700.0\n",
              "2021-01-18  49061.218750  49122.230469  ...  48564.269531  16600.0\n",
              "2021-01-19  48900.308594  49499.859375  ...  49398.289063  11000.0\n",
              "\n",
              "[1234 rows x 6 columns]"
            ]
          },
          "metadata": {
            "tags": []
          },
          "execution_count": 31
        }
      ]
    },
    {
      "cell_type": "code",
      "metadata": {
        "id": "GUoV2yTszKt0"
      },
      "source": [
        "Stock1=Stock.dropna(axis='rows')"
      ],
      "execution_count": null,
      "outputs": []
    },
    {
      "cell_type": "code",
      "metadata": {
        "colab": {
          "base_uri": "https://localhost:8080/",
          "height": 450
        },
        "id": "QguQa-o9ze7c",
        "outputId": "567cc62f-50ea-492e-c30f-9f510aba5787"
      },
      "source": [
        "Stock1"
      ],
      "execution_count": null,
      "outputs": [
        {
          "output_type": "execute_result",
          "data": {
            "text/html": [
              "<div>\n",
              "<style scoped>\n",
              "    .dataframe tbody tr th:only-of-type {\n",
              "        vertical-align: middle;\n",
              "    }\n",
              "\n",
              "    .dataframe tbody tr th {\n",
              "        vertical-align: top;\n",
              "    }\n",
              "\n",
              "    .dataframe thead th {\n",
              "        text-align: right;\n",
              "    }\n",
              "</style>\n",
              "<table border=\"1\" class=\"dataframe\">\n",
              "  <thead>\n",
              "    <tr style=\"text-align: right;\">\n",
              "      <th></th>\n",
              "      <th>Open</th>\n",
              "      <th>High</th>\n",
              "      <th>Low</th>\n",
              "      <th>Close</th>\n",
              "      <th>Adj Close</th>\n",
              "      <th>Volume</th>\n",
              "    </tr>\n",
              "    <tr>\n",
              "      <th>Date</th>\n",
              "      <th></th>\n",
              "      <th></th>\n",
              "      <th></th>\n",
              "      <th></th>\n",
              "      <th></th>\n",
              "      <th></th>\n",
              "    </tr>\n",
              "  </thead>\n",
              "  <tbody>\n",
              "    <tr>\n",
              "      <th>2016-01-20</th>\n",
              "      <td>24325.769531</td>\n",
              "      <td>24325.769531</td>\n",
              "      <td>23839.759766</td>\n",
              "      <td>24062.039063</td>\n",
              "      <td>24062.039063</td>\n",
              "      <td>12800.0</td>\n",
              "    </tr>\n",
              "    <tr>\n",
              "      <th>2016-01-21</th>\n",
              "      <td>24194.750000</td>\n",
              "      <td>24351.830078</td>\n",
              "      <td>23862.000000</td>\n",
              "      <td>23962.210938</td>\n",
              "      <td>23962.210938</td>\n",
              "      <td>13200.0</td>\n",
              "    </tr>\n",
              "    <tr>\n",
              "      <th>2016-01-22</th>\n",
              "      <td>24122.060547</td>\n",
              "      <td>24472.880859</td>\n",
              "      <td>24120.039063</td>\n",
              "      <td>24435.660156</td>\n",
              "      <td>24435.660156</td>\n",
              "      <td>10100.0</td>\n",
              "    </tr>\n",
              "    <tr>\n",
              "      <th>2016-01-25</th>\n",
              "      <td>24540.970703</td>\n",
              "      <td>24650.570313</td>\n",
              "      <td>24433.669922</td>\n",
              "      <td>24485.949219</td>\n",
              "      <td>24485.949219</td>\n",
              "      <td>8900.0</td>\n",
              "    </tr>\n",
              "    <tr>\n",
              "      <th>2016-01-27</th>\n",
              "      <td>24643.130859</td>\n",
              "      <td>24645.699219</td>\n",
              "      <td>24458.130859</td>\n",
              "      <td>24492.390625</td>\n",
              "      <td>24492.390625</td>\n",
              "      <td>8500.0</td>\n",
              "    </tr>\n",
              "    <tr>\n",
              "      <th>...</th>\n",
              "      <td>...</td>\n",
              "      <td>...</td>\n",
              "      <td>...</td>\n",
              "      <td>...</td>\n",
              "      <td>...</td>\n",
              "      <td>...</td>\n",
              "    </tr>\n",
              "    <tr>\n",
              "      <th>2021-01-13</th>\n",
              "      <td>49763.929688</td>\n",
              "      <td>49795.191406</td>\n",
              "      <td>49073.851563</td>\n",
              "      <td>49492.320313</td>\n",
              "      <td>49492.320313</td>\n",
              "      <td>27200.0</td>\n",
              "    </tr>\n",
              "    <tr>\n",
              "      <th>2021-01-14</th>\n",
              "      <td>49432.828125</td>\n",
              "      <td>49663.578125</td>\n",
              "      <td>49182.371094</td>\n",
              "      <td>49584.160156</td>\n",
              "      <td>49584.160156</td>\n",
              "      <td>24500.0</td>\n",
              "    </tr>\n",
              "    <tr>\n",
              "      <th>2021-01-15</th>\n",
              "      <td>49656.710938</td>\n",
              "      <td>49656.710938</td>\n",
              "      <td>48795.789063</td>\n",
              "      <td>49034.671875</td>\n",
              "      <td>49034.671875</td>\n",
              "      <td>14700.0</td>\n",
              "    </tr>\n",
              "    <tr>\n",
              "      <th>2021-01-18</th>\n",
              "      <td>49061.218750</td>\n",
              "      <td>49122.230469</td>\n",
              "      <td>48403.968750</td>\n",
              "      <td>48564.269531</td>\n",
              "      <td>48564.269531</td>\n",
              "      <td>16600.0</td>\n",
              "    </tr>\n",
              "    <tr>\n",
              "      <th>2021-01-19</th>\n",
              "      <td>48900.308594</td>\n",
              "      <td>49499.859375</td>\n",
              "      <td>48805.539063</td>\n",
              "      <td>49398.289063</td>\n",
              "      <td>49398.289063</td>\n",
              "      <td>11000.0</td>\n",
              "    </tr>\n",
              "  </tbody>\n",
              "</table>\n",
              "<p>1229 rows × 6 columns</p>\n",
              "</div>"
            ],
            "text/plain": [
              "                    Open          High  ...     Adj Close   Volume\n",
              "Date                                    ...                       \n",
              "2016-01-20  24325.769531  24325.769531  ...  24062.039063  12800.0\n",
              "2016-01-21  24194.750000  24351.830078  ...  23962.210938  13200.0\n",
              "2016-01-22  24122.060547  24472.880859  ...  24435.660156  10100.0\n",
              "2016-01-25  24540.970703  24650.570313  ...  24485.949219   8900.0\n",
              "2016-01-27  24643.130859  24645.699219  ...  24492.390625   8500.0\n",
              "...                  ...           ...  ...           ...      ...\n",
              "2021-01-13  49763.929688  49795.191406  ...  49492.320313  27200.0\n",
              "2021-01-14  49432.828125  49663.578125  ...  49584.160156  24500.0\n",
              "2021-01-15  49656.710938  49656.710938  ...  49034.671875  14700.0\n",
              "2021-01-18  49061.218750  49122.230469  ...  48564.269531  16600.0\n",
              "2021-01-19  48900.308594  49499.859375  ...  49398.289063  11000.0\n",
              "\n",
              "[1229 rows x 6 columns]"
            ]
          },
          "metadata": {
            "tags": []
          },
          "execution_count": 33
        }
      ]
    },
    {
      "cell_type": "code",
      "metadata": {
        "colab": {
          "base_uri": "https://localhost:8080/"
        },
        "id": "VbeBb4O91Woo",
        "outputId": "f8c0d588-3c1b-46b3-9f18-e0e2734b37f5"
      },
      "source": [
        "!pip install mplfinance\r\n",
        "import mplfinance as mpf"
      ],
      "execution_count": null,
      "outputs": [
        {
          "output_type": "stream",
          "text": [
            "Collecting mplfinance\n",
            "\u001b[?25l  Downloading https://files.pythonhosted.org/packages/94/c5/9ea8d953d3e90ff7419ba72789ed42c2ca173160c799caf36e144ed90258/mplfinance-0.12.7a4-py3-none-any.whl (55kB)\n",
            "\r\u001b[K     |█████▉                          | 10kB 12.3MB/s eta 0:00:01\r\u001b[K     |███████████▊                    | 20kB 17.7MB/s eta 0:00:01\r\u001b[K     |█████████████████▋              | 30kB 16.1MB/s eta 0:00:01\r\u001b[K     |███████████████████████▌        | 40kB 11.6MB/s eta 0:00:01\r\u001b[K     |█████████████████████████████▍  | 51kB 10.2MB/s eta 0:00:01\r\u001b[K     |████████████████████████████████| 61kB 4.4MB/s \n",
            "\u001b[?25hRequirement already satisfied: matplotlib in /usr/local/lib/python3.6/dist-packages (from mplfinance) (3.2.2)\n",
            "Requirement already satisfied: pandas in /usr/local/lib/python3.6/dist-packages (from mplfinance) (1.1.5)\n",
            "Requirement already satisfied: kiwisolver>=1.0.1 in /usr/local/lib/python3.6/dist-packages (from matplotlib->mplfinance) (1.3.1)\n",
            "Requirement already satisfied: pyparsing!=2.0.4,!=2.1.2,!=2.1.6,>=2.0.1 in /usr/local/lib/python3.6/dist-packages (from matplotlib->mplfinance) (2.4.7)\n",
            "Requirement already satisfied: cycler>=0.10 in /usr/local/lib/python3.6/dist-packages (from matplotlib->mplfinance) (0.10.0)\n",
            "Requirement already satisfied: numpy>=1.11 in /usr/local/lib/python3.6/dist-packages (from matplotlib->mplfinance) (1.19.5)\n",
            "Requirement already satisfied: python-dateutil>=2.1 in /usr/local/lib/python3.6/dist-packages (from matplotlib->mplfinance) (2.8.1)\n",
            "Requirement already satisfied: pytz>=2017.2 in /usr/local/lib/python3.6/dist-packages (from pandas->mplfinance) (2018.9)\n",
            "Requirement already satisfied: six in /usr/local/lib/python3.6/dist-packages (from cycler>=0.10->matplotlib->mplfinance) (1.15.0)\n",
            "Installing collected packages: mplfinance\n",
            "Successfully installed mplfinance-0.12.7a4\n"
          ],
          "name": "stdout"
        }
      ]
    },
    {
      "cell_type": "code",
      "metadata": {
        "colab": {
          "base_uri": "https://localhost:8080/",
          "height": 523
        },
        "id": "7VX4vY6m1s9V",
        "outputId": "6bf8bb30-3e58-476a-ffb7-0e751edfec6f"
      },
      "source": [
        "mpf.plot(Stock1)"
      ],
      "execution_count": null,
      "outputs": [
        {
          "output_type": "display_data",
          "data": {
            "image/png": "[encoded data removed]",
            "text/plain": [
              "<Figure size 800x575 with 2 Axes>"
            ]
          },
          "metadata": {
            "tags": []
          }
        }
      ]
    },
    {
      "cell_type": "code",
      "metadata": {
        "colab": {
          "base_uri": "https://localhost:8080/",
          "height": 616
        },
        "id": "6lQ8Px32LBSf",
        "outputId": "704d2d8a-2e2a-48c8-d043-c67f378e83dd"
      },
      "source": [
        "mpf.plot(Stock1['2020-6':'2021-1'],figratio=(20,15),\r\n",
        "type='candle',\r\n",
        "title='BSE INDEX 2020/21',\r\n",
        "mav=(20),volume=True,\r\n",
        "tight_layout=True,\r\n",
        "style='yahoo')"
      ],
      "execution_count": null,
      "outputs": [
        {
          "output_type": "display_data",
          "data": {
            "image/png": "[encoded data removed]",
            "text/plain": [
              "<Figure size 766.667x575 with 4 Axes>"
            ]
          },
          "metadata": {
            "tags": []
          }
        }
      ]
    },
    {
      "cell_type": "code",
      "metadata": {
        "colab": {
          "base_uri": "https://localhost:8080/",
          "height": 523
        },
        "id": "DwOdLZPx2CYI",
        "outputId": "6fb6710f-faf1-400d-8dc5-a051e14e3666"
      },
      "source": [
        "mpf.plot(Stock1,type='line',volume=True)"
      ],
      "execution_count": null,
      "outputs": [
        {
          "output_type": "display_data",
          "data": {
            "image/png": "[encoded data removed]",
            "text/plain": [
              "<Figure size 800x575 with 4 Axes>"
            ]
          },
          "metadata": {
            "tags": []
          }
        }
      ]
    },
    {
      "cell_type": "code",
      "metadata": {
        "colab": {
          "base_uri": "https://localhost:8080/",
          "height": 450
        },
        "id": "NxU3UdPq2U5e",
        "outputId": "372002c3-35d5-4c88-d497-0cdab0a753bd"
      },
      "source": [
        "Stock2=Stock1[['Close']].copy()\r\n",
        "Stock2"
      ],
      "execution_count": null,
      "outputs": [
        {
          "output_type": "execute_result",
          "data": {
            "text/html": [
              "<div>\n",
              "<style scoped>\n",
              "    .dataframe tbody tr th:only-of-type {\n",
              "        vertical-align: middle;\n",
              "    }\n",
              "\n",
              "    .dataframe tbody tr th {\n",
              "        vertical-align: top;\n",
              "    }\n",
              "\n",
              "    .dataframe thead th {\n",
              "        text-align: right;\n",
              "    }\n",
              "</style>\n",
              "<table border=\"1\" class=\"dataframe\">\n",
              "  <thead>\n",
              "    <tr style=\"text-align: right;\">\n",
              "      <th></th>\n",
              "      <th>Close</th>\n",
              "    </tr>\n",
              "    <tr>\n",
              "      <th>Date</th>\n",
              "      <th></th>\n",
              "    </tr>\n",
              "  </thead>\n",
              "  <tbody>\n",
              "    <tr>\n",
              "      <th>2016-01-20</th>\n",
              "      <td>24062.039063</td>\n",
              "    </tr>\n",
              "    <tr>\n",
              "      <th>2016-01-21</th>\n",
              "      <td>23962.210938</td>\n",
              "    </tr>\n",
              "    <tr>\n",
              "      <th>2016-01-22</th>\n",
              "      <td>24435.660156</td>\n",
              "    </tr>\n",
              "    <tr>\n",
              "      <th>2016-01-25</th>\n",
              "      <td>24485.949219</td>\n",
              "    </tr>\n",
              "    <tr>\n",
              "      <th>2016-01-27</th>\n",
              "      <td>24492.390625</td>\n",
              "    </tr>\n",
              "    <tr>\n",
              "      <th>...</th>\n",
              "      <td>...</td>\n",
              "    </tr>\n",
              "    <tr>\n",
              "      <th>2021-01-13</th>\n",
              "      <td>49492.320313</td>\n",
              "    </tr>\n",
              "    <tr>\n",
              "      <th>2021-01-14</th>\n",
              "      <td>49584.160156</td>\n",
              "    </tr>\n",
              "    <tr>\n",
              "      <th>2021-01-15</th>\n",
              "      <td>49034.671875</td>\n",
              "    </tr>\n",
              "    <tr>\n",
              "      <th>2021-01-18</th>\n",
              "      <td>48564.269531</td>\n",
              "    </tr>\n",
              "    <tr>\n",
              "      <th>2021-01-19</th>\n",
              "      <td>49398.289063</td>\n",
              "    </tr>\n",
              "  </tbody>\n",
              "</table>\n",
              "<p>1229 rows × 1 columns</p>\n",
              "</div>"
            ],
            "text/plain": [
              "                   Close\n",
              "Date                    \n",
              "2016-01-20  24062.039063\n",
              "2016-01-21  23962.210938\n",
              "2016-01-22  24435.660156\n",
              "2016-01-25  24485.949219\n",
              "2016-01-27  24492.390625\n",
              "...                  ...\n",
              "2021-01-13  49492.320313\n",
              "2021-01-14  49584.160156\n",
              "2021-01-15  49034.671875\n",
              "2021-01-18  48564.269531\n",
              "2021-01-19  49398.289063\n",
              "\n",
              "[1229 rows x 1 columns]"
            ]
          },
          "metadata": {
            "tags": []
          },
          "execution_count": 36
        }
      ]
    },
    {
      "cell_type": "code",
      "metadata": {
        "colab": {
          "base_uri": "https://localhost:8080/"
        },
        "id": "WKxt-46j8VRR",
        "outputId": "23eca3ea-b767-431b-80a9-cf571c704ac5"
      },
      "source": [
        "#Check the price of Seires is Stationary\r\n",
        "import statsmodels.api as sm\r\n",
        "from statsmodels.tsa.stattools import adfuller\r\n",
        "x=Stock2['Close'].values\r\n",
        "result=adfuller(x)\r\n",
        "print('ADF Statistic: %f' % result[0])\r\n",
        "print('P-value: %f' % result[1])\r\n",
        "#print('Critical Values:')\r\n",
        "#for key, value in result[4].items():\r\n",
        "#print(\"\\t%s : %.3f\",(key,value))  \r\n",
        "\r\n",
        "#if result[0]<result[4][\"5%\"]:\r\n",
        " # print(\"Reject HO time series is Stationary\")\r\n",
        "#else\r\n",
        "  #print(\"We Don't reject HO time series is non-Stationary\")"
      ],
      "execution_count": null,
      "outputs": [
        {
          "output_type": "stream",
          "text": [
            "ADF Statistic: -0.785737\n",
            "P-value: 0.823276\n"
          ],
          "name": "stdout"
        }
      ]
    },
    {
      "cell_type": "code",
      "metadata": {
        "id": "Nj-tvA3UGB4k"
      },
      "source": [
        "#Autocorrelation fuction and Partial Autocorrelation function\r\n",
        "from statsmodels.graphics.tsaplots import plot_acf\r\n",
        "from statsmodels.graphics.tsaplots import plot_pacf"
      ],
      "execution_count": null,
      "outputs": []
    },
    {
      "cell_type": "code",
      "metadata": {
        "colab": {
          "base_uri": "https://localhost:8080/",
          "height": 284
        },
        "id": "QFXfqROYGRHO",
        "outputId": "7aeeb7e9-b29e-4400-badb-b99f5c4d5350"
      },
      "source": [
        "fig, (ax1, ax2) = plt.subplots(1,2, figsize=(16,4))\r\n",
        "\r\n",
        "ax1.plot(Stock2)\r\n",
        "ax1.set_title(\"Original\")\r\n",
        "plot_acf(Stock2, ax=ax2);"
      ],
      "execution_count": null,
      "outputs": [
        {
          "output_type": "display_data",
          "data": {
            "image/png": "[encoded data removed]",
            "text/plain": [
              "<Figure size 1600x400 with 2 Axes>"
            ]
          },
          "metadata": {
            "tags": []
          }
        }
      ]
    },
    {
      "cell_type": "code",
      "metadata": {
        "colab": {
          "base_uri": "https://localhost:8080/",
          "height": 284
        },
        "id": "Sk-H2Sh9ScWE",
        "outputId": "bd10dc21-edef-4309-8e1c-a672c26d837b"
      },
      "source": [
        "fig, (ax1, ax2) = plt.subplots(1,2, figsize=(16,4))\r\n",
        "\r\n",
        "ax1.plot(Stock2)\r\n",
        "ax1.set_title(\"Original\")\r\n",
        "plot_pacf(Stock2, ax=ax2);"
      ],
      "execution_count": null,
      "outputs": [
        {
          "output_type": "display_data",
          "data": {
            "image/png": "[encoded data removed]",
            "text/plain": [
              "<Figure size 1600x400 with 2 Axes>"
            ]
          },
          "metadata": {
            "tags": []
          }
        }
      ]
    },
    {
      "cell_type": "code",
      "metadata": {
        "colab": {
          "base_uri": "https://localhost:8080/",
          "height": 598
        },
        "id": "GYIfEFUQUZS7",
        "outputId": "ceca4465-e8dd-4b04-d1b7-080de581dec0"
      },
      "source": [
        "!pip install pmdarima\r\n",
        "from pmdarima.arima.utils import ndiffs"
      ],
      "execution_count": null,
      "outputs": [
        {
          "output_type": "stream",
          "text": [
            "Collecting pmdarima\n",
            "\u001b[?25l  Downloading https://files.pythonhosted.org/packages/c9/d7/61af1897449638822f97c8b43ef0c2fce2ec68a6cda9a43ebbbdd12b967c/pmdarima-1.8.0-cp36-cp36m-manylinux1_x86_64.whl (1.5MB)\n",
            "\u001b[K     |████████████████████████████████| 1.5MB 8.0MB/s \n",
            "\u001b[?25hRequirement already satisfied: pandas>=0.19 in /usr/local/lib/python3.6/dist-packages (from pmdarima) (1.1.5)\n",
            "Requirement already satisfied: scikit-learn>=0.22 in /usr/local/lib/python3.6/dist-packages (from pmdarima) (0.22.2.post1)\n",
            "Requirement already satisfied: numpy>=1.17.3 in /usr/local/lib/python3.6/dist-packages (from pmdarima) (1.19.5)\n",
            "Requirement already satisfied: setuptools!=50.0.0,>=38.6.0 in /usr/local/lib/python3.6/dist-packages (from pmdarima) (51.1.2)\n",
            "Collecting statsmodels!=0.12.0,>=0.11\n",
            "\u001b[?25l  Downloading https://files.pythonhosted.org/packages/be/4c/9e2435ca6645d6bafa2b51bb11f0a365b28934a2ffe9d6e339d67130926d/statsmodels-0.12.1-cp36-cp36m-manylinux1_x86_64.whl (9.5MB)\n",
            "\u001b[K     |████████████████████████████████| 9.5MB 39.8MB/s \n",
            "\u001b[?25hRequirement already satisfied: urllib3 in /usr/local/lib/python3.6/dist-packages (from pmdarima) (1.24.3)\n",
            "Collecting Cython<0.29.18,>=0.29\n",
            "\u001b[?25l  Downloading https://files.pythonhosted.org/packages/e7/d7/510ddef0248f3e1e91f9cc7e31c0f35f8954d0af92c5c3fd4c853e859ebe/Cython-0.29.17-cp36-cp36m-manylinux1_x86_64.whl (2.1MB)\n",
            "\u001b[K     |████████████████████████████████| 2.1MB 37.0MB/s \n",
            "\u001b[?25hRequirement already satisfied: scipy>=1.3.2 in /usr/local/lib/python3.6/dist-packages (from pmdarima) (1.4.1)\n",
            "Requirement already satisfied: joblib>=0.11 in /usr/local/lib/python3.6/dist-packages (from pmdarima) (1.0.0)\n",
            "Requirement already satisfied: pytz>=2017.2 in /usr/local/lib/python3.6/dist-packages (from pandas>=0.19->pmdarima) (2018.9)\n",
            "Requirement already satisfied: python-dateutil>=2.7.3 in /usr/local/lib/python3.6/dist-packages (from pandas>=0.19->pmdarima) (2.8.1)\n",
            "Requirement already satisfied: patsy>=0.5 in /usr/local/lib/python3.6/dist-packages (from statsmodels!=0.12.0,>=0.11->pmdarima) (0.5.1)\n",
            "Requirement already satisfied: six>=1.5 in /usr/local/lib/python3.6/dist-packages (from python-dateutil>=2.7.3->pandas>=0.19->pmdarima) (1.15.0)\n",
            "Installing collected packages: statsmodels, Cython, pmdarima\n",
            "  Found existing installation: statsmodels 0.10.2\n",
            "    Uninstalling statsmodels-0.10.2:\n",
            "      Successfully uninstalled statsmodels-0.10.2\n",
            "  Found existing installation: Cython 0.29.21\n",
            "    Uninstalling Cython-0.29.21:\n",
            "      Successfully uninstalled Cython-0.29.21\n",
            "Successfully installed Cython-0.29.17 pmdarima-1.8.0 statsmodels-0.12.1\n"
          ],
          "name": "stdout"
        },
        {
          "output_type": "display_data",
          "data": {
            "application/vnd.colab-display-data+json": {
              "pip_warning": {
                "packages": [
                  "statsmodels"
                ]
              }
            }
          },
          "metadata": {
            "tags": []
          }
        }
      ]
    },
    {
      "cell_type": "code",
      "metadata": {
        "colab": {
          "base_uri": "https://localhost:8080/"
        },
        "id": "wKRX7IWGUr21",
        "outputId": "c55c1312-a6f2-43b5-dd96-9fd818df178e"
      },
      "source": [
        "ndiffs(Stock2, test=\"adf\")"
      ],
      "execution_count": null,
      "outputs": [
        {
          "output_type": "execute_result",
          "data": {
            "text/plain": [
              "1"
            ]
          },
          "metadata": {
            "tags": []
          },
          "execution_count": 42
        }
      ]
    },
    {
      "cell_type": "code",
      "metadata": {
        "colab": {
          "base_uri": "https://localhost:8080/",
          "height": 450
        },
        "id": "6OPCScumU_Up",
        "outputId": "ae5c6bf3-d37a-4622-88d8-5882dbb0e544"
      },
      "source": [
        "Stock2.shift(1)"
      ],
      "execution_count": null,
      "outputs": [
        {
          "output_type": "execute_result",
          "data": {
            "text/html": [
              "<div>\n",
              "<style scoped>\n",
              "    .dataframe tbody tr th:only-of-type {\n",
              "        vertical-align: middle;\n",
              "    }\n",
              "\n",
              "    .dataframe tbody tr th {\n",
              "        vertical-align: top;\n",
              "    }\n",
              "\n",
              "    .dataframe thead th {\n",
              "        text-align: right;\n",
              "    }\n",
              "</style>\n",
              "<table border=\"1\" class=\"dataframe\">\n",
              "  <thead>\n",
              "    <tr style=\"text-align: right;\">\n",
              "      <th></th>\n",
              "      <th>Close</th>\n",
              "    </tr>\n",
              "    <tr>\n",
              "      <th>Date</th>\n",
              "      <th></th>\n",
              "    </tr>\n",
              "  </thead>\n",
              "  <tbody>\n",
              "    <tr>\n",
              "      <th>2016-01-20</th>\n",
              "      <td>NaN</td>\n",
              "    </tr>\n",
              "    <tr>\n",
              "      <th>2016-01-21</th>\n",
              "      <td>24062.039063</td>\n",
              "    </tr>\n",
              "    <tr>\n",
              "      <th>2016-01-22</th>\n",
              "      <td>23962.210938</td>\n",
              "    </tr>\n",
              "    <tr>\n",
              "      <th>2016-01-25</th>\n",
              "      <td>24435.660156</td>\n",
              "    </tr>\n",
              "    <tr>\n",
              "      <th>2016-01-27</th>\n",
              "      <td>24485.949219</td>\n",
              "    </tr>\n",
              "    <tr>\n",
              "      <th>...</th>\n",
              "      <td>...</td>\n",
              "    </tr>\n",
              "    <tr>\n",
              "      <th>2021-01-13</th>\n",
              "      <td>49517.109375</td>\n",
              "    </tr>\n",
              "    <tr>\n",
              "      <th>2021-01-14</th>\n",
              "      <td>49492.320313</td>\n",
              "    </tr>\n",
              "    <tr>\n",
              "      <th>2021-01-15</th>\n",
              "      <td>49584.160156</td>\n",
              "    </tr>\n",
              "    <tr>\n",
              "      <th>2021-01-18</th>\n",
              "      <td>49034.671875</td>\n",
              "    </tr>\n",
              "    <tr>\n",
              "      <th>2021-01-19</th>\n",
              "      <td>48564.269531</td>\n",
              "    </tr>\n",
              "  </tbody>\n",
              "</table>\n",
              "<p>1229 rows × 1 columns</p>\n",
              "</div>"
            ],
            "text/plain": [
              "                   Close\n",
              "Date                    \n",
              "2016-01-20           NaN\n",
              "2016-01-21  24062.039063\n",
              "2016-01-22  23962.210938\n",
              "2016-01-25  24435.660156\n",
              "2016-01-27  24485.949219\n",
              "...                  ...\n",
              "2021-01-13  49517.109375\n",
              "2021-01-14  49492.320313\n",
              "2021-01-15  49584.160156\n",
              "2021-01-18  49034.671875\n",
              "2021-01-19  48564.269531\n",
              "\n",
              "[1229 rows x 1 columns]"
            ]
          },
          "metadata": {
            "tags": []
          },
          "execution_count": 43
        }
      ]
    },
    {
      "cell_type": "code",
      "metadata": {
        "id": "6J3nQk0WVCoq"
      },
      "source": [
        "Stock2_diff=Stock2.diff(periods = 1)"
      ],
      "execution_count": null,
      "outputs": []
    },
    {
      "cell_type": "code",
      "metadata": {
        "colab": {
          "base_uri": "https://localhost:8080/",
          "height": 284
        },
        "id": "ispHSaNIYYMg",
        "outputId": "ef6f612c-f101-4472-8f6e-dde8495cdf96"
      },
      "source": [
        "diff=Stock2.diff().dropna()\r\n",
        "\r\n",
        "fig, (ax1, ax2) = plt.subplots(1,2, figsize=(16,4))\r\n",
        "\r\n",
        "ax1.plot(diff)\r\n",
        "ax1.set_title(\"Difference\")\r\n",
        "ax2.set_ylim(0, 1)\r\n",
        "# add 1 at the end of the fuction so that \r\n",
        "plot_pacf(diff, ax=ax2);"
      ],
      "execution_count": null,
      "outputs": [
        {
          "output_type": "display_data",
          "data": {
            "image/png": "[encoded data removed]",
            "text/plain": [
              "<Figure size 1600x400 with 2 Axes>"
            ]
          },
          "metadata": {
            "tags": []
          }
        }
      ]
    },
    {
      "cell_type": "code",
      "metadata": {
        "id": "X6w3b4sqVG1S"
      },
      "source": [
        "#Fitting the arima model\r\n",
        "from statsmodels.tsa.arima_model import ARIMA\r\n"
      ],
      "execution_count": null,
      "outputs": []
    },
    {
      "cell_type": "code",
      "metadata": {
        "colab": {
          "base_uri": "https://localhost:8080/"
        },
        "id": "wO-mzTrNZSO6",
        "outputId": "c11e72fa-2405-40e0-f473-e585e4d56d89"
      },
      "source": [
        "#ARIMA model\r\n",
        "model = ARIMA(Stock2_diff.dropna(), order = (1, 1, 2))\r\n",
        "result = model.fit()"
      ],
      "execution_count": null,
      "outputs": [
        {
          "output_type": "stream",
          "text": [
            "/usr/local/lib/python3.6/dist-packages/statsmodels/tsa/base/tsa_model.py:219: ValueWarning: A date index has been provided, but it has no associated frequency information and so will be ignored when e.g. forecasting.\n",
            "  try:\n",
            "/usr/local/lib/python3.6/dist-packages/statsmodels/tsa/base/tsa_model.py:219: ValueWarning: A date index has been provided, but it has no associated frequency information and so will be ignored when e.g. forecasting.\n",
            "  try:\n"
          ],
          "name": "stderr"
        }
      ]
    },
    {
      "cell_type": "code",
      "metadata": {
        "colab": {
          "base_uri": "https://localhost:8080/",
          "height": 376
        },
        "id": "8j-EWzKugKgG",
        "outputId": "6c5cd61e-0497-4a01-b3f6-2bfee72c971a"
      },
      "source": [
        "result.summary()"
      ],
      "execution_count": null,
      "outputs": [
        {
          "output_type": "execute_result",
          "data": {
            "text/html": [
              "<table class=\"simpletable\">\n",
              "<caption>ARIMA Model Results</caption>\n",
              "<tr>\n",
              "  <th>Dep. Variable:</th>      <td>D.Close</td>     <th>  No. Observations:  </th>   <td>1227</td>   \n",
              "</tr>\n",
              "<tr>\n",
              "  <th>Model:</th>          <td>ARIMA(1, 1, 2)</td>  <th>  Log Likelihood     </th> <td>-9035.487</td>\n",
              "</tr>\n",
              "<tr>\n",
              "  <th>Method:</th>             <td>css-mle</td>     <th>  S.D. of innovations</th>  <td>380.721</td> \n",
              "</tr>\n",
              "<tr>\n",
              "  <th>Date:</th>          <td>Wed, 20 Jan 2021</td> <th>  AIC                </th> <td>18080.974</td>\n",
              "</tr>\n",
              "<tr>\n",
              "  <th>Time:</th>              <td>04:24:53</td>     <th>  BIC                </th> <td>18106.536</td>\n",
              "</tr>\n",
              "<tr>\n",
              "  <th>Sample:</th>                <td>1</td>        <th>  HQIC               </th> <td>18090.593</td>\n",
              "</tr>\n",
              "<tr>\n",
              "  <th></th>                       <td> </td>        <th>                     </th>     <td> </td>    \n",
              "</tr>\n",
              "</table>\n",
              "<table class=\"simpletable\">\n",
              "<tr>\n",
              "        <td></td>           <th>coef</th>     <th>std err</th>      <th>z</th>      <th>P>|z|</th>  <th>[0.025</th>    <th>0.975]</th>  \n",
              "</tr>\n",
              "<tr>\n",
              "  <th>const</th>         <td>    0.0216</td> <td>    0.031</td> <td>    0.700</td> <td> 0.484</td> <td>   -0.039</td> <td>    0.082</td>\n",
              "</tr>\n",
              "<tr>\n",
              "  <th>ar.L1.D.Close</th> <td>   -0.9291</td> <td>    0.064</td> <td>  -14.429</td> <td> 0.000</td> <td>   -1.055</td> <td>   -0.803</td>\n",
              "</tr>\n",
              "<tr>\n",
              "  <th>ma.L1.D.Close</th> <td>   -0.0592</td> <td>    0.059</td> <td>   -1.011</td> <td> 0.312</td> <td>   -0.174</td> <td>    0.056</td>\n",
              "</tr>\n",
              "<tr>\n",
              "  <th>ma.L2.D.Close</th> <td>   -0.9408</td> <td>    0.059</td> <td>  -16.078</td> <td> 0.000</td> <td>   -1.055</td> <td>   -0.826</td>\n",
              "</tr>\n",
              "</table>\n",
              "<table class=\"simpletable\">\n",
              "<caption>Roots</caption>\n",
              "<tr>\n",
              "    <td></td>   <th>            Real</th>  <th>         Imaginary</th> <th>         Modulus</th>  <th>        Frequency</th>\n",
              "</tr>\n",
              "<tr>\n",
              "  <th>AR.1</th> <td>          -1.0764</td> <td>          +0.0000j</td> <td>           1.0764</td> <td>           0.5000</td>\n",
              "</tr>\n",
              "<tr>\n",
              "  <th>MA.1</th> <td>           1.0000</td> <td>          +0.0000j</td> <td>           1.0000</td> <td>           0.0000</td>\n",
              "</tr>\n",
              "<tr>\n",
              "  <th>MA.2</th> <td>          -1.0629</td> <td>          +0.0000j</td> <td>           1.0629</td> <td>           0.5000</td>\n",
              "</tr>\n",
              "</table>"
            ],
            "text/plain": [
              "<class 'statsmodels.iolib.summary.Summary'>\n",
              "\"\"\"\n",
              "                             ARIMA Model Results                              \n",
              "==============================================================================\n",
              "Dep. Variable:                D.Close   No. Observations:                 1227\n",
              "Model:                 ARIMA(1, 1, 2)   Log Likelihood               -9035.487\n",
              "Method:                       css-mle   S.D. of innovations            380.721\n",
              "Date:                Wed, 20 Jan 2021   AIC                          18080.974\n",
              "Time:                        04:24:53   BIC                          18106.536\n",
              "Sample:                             1   HQIC                         18090.593\n",
              "                                                                              \n",
              "=================================================================================\n",
              "                    coef    std err          z      P>|z|      [0.025      0.975]\n",
              "---------------------------------------------------------------------------------\n",
              "const             0.0216      0.031      0.700      0.484      -0.039       0.082\n",
              "ar.L1.D.Close    -0.9291      0.064    -14.429      0.000      -1.055      -0.803\n",
              "ma.L1.D.Close    -0.0592      0.059     -1.011      0.312      -0.174       0.056\n",
              "ma.L2.D.Close    -0.9408      0.059    -16.078      0.000      -1.055      -0.826\n",
              "                                    Roots                                    \n",
              "=============================================================================\n",
              "                  Real          Imaginary           Modulus         Frequency\n",
              "-----------------------------------------------------------------------------\n",
              "AR.1           -1.0764           +0.0000j            1.0764            0.5000\n",
              "MA.1            1.0000           +0.0000j            1.0000            0.0000\n",
              "MA.2           -1.0629           +0.0000j            1.0629            0.5000\n",
              "-----------------------------------------------------------------------------\n",
              "\"\"\""
            ]
          },
          "metadata": {
            "tags": []
          },
          "execution_count": 48
        }
      ]
    },
    {
      "cell_type": "code",
      "metadata": {
        "id": "i3uEtOqd6MOL"
      },
      "source": [
        "from pmdarima import auto_arima\r\n",
        "import warnings\r\n",
        "warnings.filterwarnings('ignore')"
      ],
      "execution_count": null,
      "outputs": []
    },
    {
      "cell_type": "code",
      "metadata": {
        "colab": {
          "base_uri": "https://localhost:8080/",
          "height": 1000
        },
        "id": "jVyuOwr-7i7C",
        "outputId": "5ca3a6b8-f62c-4d90-8751-05615acbdde5"
      },
      "source": [
        "fit = auto_arima(Stock2['Close'],trace=True,suppress_warnings=True)\r\n",
        "fit.summary()                      "
      ],
      "execution_count": null,
      "outputs": [
        {
          "output_type": "stream",
          "text": [
            "Performing stepwise search to minimize aic\n",
            " ARIMA(2,1,2)(0,0,0)[0] intercept   : AIC=18082.344, Time=1.17 sec\n",
            " ARIMA(0,1,0)(0,0,0)[0] intercept   : AIC=18083.311, Time=0.05 sec\n",
            " ARIMA(1,1,0)(0,0,0)[0] intercept   : AIC=18082.700, Time=0.09 sec\n",
            " ARIMA(0,1,1)(0,0,0)[0] intercept   : AIC=18083.028, Time=0.13 sec\n",
            " ARIMA(0,1,0)(0,0,0)[0]             : AIC=18084.910, Time=0.03 sec\n",
            " ARIMA(1,1,2)(0,0,0)[0] intercept   : AIC=18077.736, Time=1.20 sec\n",
            " ARIMA(0,1,2)(0,0,0)[0] intercept   : AIC=18078.543, Time=0.22 sec\n",
            " ARIMA(1,1,1)(0,0,0)[0] intercept   : AIC=18083.054, Time=0.37 sec\n",
            " ARIMA(1,1,3)(0,0,0)[0] intercept   : AIC=18075.721, Time=1.28 sec\n",
            " ARIMA(0,1,3)(0,0,0)[0] intercept   : AIC=18080.260, Time=0.29 sec\n",
            " ARIMA(2,1,3)(0,0,0)[0] intercept   : AIC=18078.468, Time=1.06 sec\n",
            " ARIMA(1,1,4)(0,0,0)[0] intercept   : AIC=18077.408, Time=1.20 sec\n",
            " ARIMA(0,1,4)(0,0,0)[0] intercept   : AIC=18080.803, Time=0.48 sec\n",
            " ARIMA(2,1,4)(0,0,0)[0] intercept   : AIC=18038.129, Time=2.76 sec\n",
            " ARIMA(3,1,4)(0,0,0)[0] intercept   : AIC=18036.191, Time=1.82 sec\n",
            " ARIMA(3,1,3)(0,0,0)[0] intercept   : AIC=18034.679, Time=2.67 sec\n",
            " ARIMA(3,1,2)(0,0,0)[0] intercept   : AIC=18075.659, Time=2.41 sec\n",
            " ARIMA(4,1,3)(0,0,0)[0] intercept   : AIC=18036.587, Time=2.49 sec\n",
            " ARIMA(4,1,2)(0,0,0)[0] intercept   : AIC=18075.748, Time=1.99 sec\n",
            " ARIMA(4,1,4)(0,0,0)[0] intercept   : AIC=18039.383, Time=5.36 sec\n",
            " ARIMA(3,1,3)(0,0,0)[0]             : AIC=18034.266, Time=1.14 sec\n",
            " ARIMA(2,1,3)(0,0,0)[0]             : AIC=18036.784, Time=1.08 sec\n",
            " ARIMA(3,1,2)(0,0,0)[0]             : AIC=18037.418, Time=1.54 sec\n",
            " ARIMA(4,1,3)(0,0,0)[0]             : AIC=18036.034, Time=1.81 sec\n",
            " ARIMA(3,1,4)(0,0,0)[0]             : AIC=18035.689, Time=1.51 sec\n",
            " ARIMA(2,1,2)(0,0,0)[0]             : AIC=18079.400, Time=0.90 sec\n",
            " ARIMA(2,1,4)(0,0,0)[0]             : AIC=18038.069, Time=1.12 sec\n",
            " ARIMA(4,1,2)(0,0,0)[0]             : AIC=18074.423, Time=1.07 sec\n",
            " ARIMA(4,1,4)(0,0,0)[0]             : AIC=18038.159, Time=2.57 sec\n",
            "\n",
            "Best model:  ARIMA(3,1,3)(0,0,0)[0]          \n",
            "Total fit time: 39.889 seconds\n"
          ],
          "name": "stdout"
        },
        {
          "output_type": "execute_result",
          "data": {
            "text/html": [
              "<table class=\"simpletable\">\n",
              "<caption>Statespace Model Results</caption>\n",
              "<tr>\n",
              "  <th>Dep. Variable:</th>           <td>y</td>        <th>  No. Observations:  </th>   <td>1229</td>   \n",
              "</tr>\n",
              "<tr>\n",
              "  <th>Model:</th>           <td>SARIMAX(3, 1, 3)</td> <th>  Log Likelihood     </th> <td>-9010.133</td>\n",
              "</tr>\n",
              "<tr>\n",
              "  <th>Date:</th>            <td>Wed, 20 Jan 2021</td> <th>  AIC                </th> <td>18034.266</td>\n",
              "</tr>\n",
              "<tr>\n",
              "  <th>Time:</th>                <td>04:25:49</td>     <th>  BIC                </th> <td>18070.058</td>\n",
              "</tr>\n",
              "<tr>\n",
              "  <th>Sample:</th>                  <td>0</td>        <th>  HQIC               </th> <td>18047.734</td>\n",
              "</tr>\n",
              "<tr>\n",
              "  <th></th>                      <td> - 1229</td>     <th>                     </th>     <td> </td>    \n",
              "</tr>\n",
              "<tr>\n",
              "  <th>Covariance Type:</th>        <td>opg</td>       <th>                     </th>     <td> </td>    \n",
              "</tr>\n",
              "</table>\n",
              "<table class=\"simpletable\">\n",
              "<tr>\n",
              "     <td></td>       <th>coef</th>     <th>std err</th>      <th>z</th>      <th>P>|z|</th>  <th>[0.025</th>    <th>0.975]</th>  \n",
              "</tr>\n",
              "<tr>\n",
              "  <th>ar.L1</th>  <td>   -0.5996</td> <td>    0.051</td> <td>  -11.821</td> <td> 0.000</td> <td>   -0.699</td> <td>   -0.500</td>\n",
              "</tr>\n",
              "<tr>\n",
              "  <th>ar.L2</th>  <td>    0.4355</td> <td>    0.066</td> <td>    6.572</td> <td> 0.000</td> <td>    0.306</td> <td>    0.565</td>\n",
              "</tr>\n",
              "<tr>\n",
              "  <th>ar.L3</th>  <td>    0.8455</td> <td>    0.045</td> <td>   18.902</td> <td> 0.000</td> <td>    0.758</td> <td>    0.933</td>\n",
              "</tr>\n",
              "<tr>\n",
              "  <th>ma.L1</th>  <td>    0.5790</td> <td>    0.057</td> <td>   10.161</td> <td> 0.000</td> <td>    0.467</td> <td>    0.691</td>\n",
              "</tr>\n",
              "<tr>\n",
              "  <th>ma.L2</th>  <td>   -0.3469</td> <td>    0.077</td> <td>   -4.491</td> <td> 0.000</td> <td>   -0.498</td> <td>   -0.196</td>\n",
              "</tr>\n",
              "<tr>\n",
              "  <th>ma.L3</th>  <td>   -0.8092</td> <td>    0.056</td> <td>  -14.461</td> <td> 0.000</td> <td>   -0.919</td> <td>   -0.699</td>\n",
              "</tr>\n",
              "<tr>\n",
              "  <th>sigma2</th> <td> 1.423e+05</td> <td> 2581.488</td> <td>   55.119</td> <td> 0.000</td> <td> 1.37e+05</td> <td> 1.47e+05</td>\n",
              "</tr>\n",
              "</table>\n",
              "<table class=\"simpletable\">\n",
              "<tr>\n",
              "  <th>Ljung-Box (Q):</th>          <td>39.30</td> <th>  Jarque-Bera (JB):  </th> <td>8644.45</td>\n",
              "</tr>\n",
              "<tr>\n",
              "  <th>Prob(Q):</th>                <td>0.50</td>  <th>  Prob(JB):          </th>  <td>0.00</td>  \n",
              "</tr>\n",
              "<tr>\n",
              "  <th>Heteroskedasticity (H):</th> <td>6.12</td>  <th>  Skew:              </th>  <td>-0.73</td> \n",
              "</tr>\n",
              "<tr>\n",
              "  <th>Prob(H) (two-sided):</th>    <td>0.00</td>  <th>  Kurtosis:          </th>  <td>15.92</td> \n",
              "</tr>\n",
              "</table><br/><br/>Warnings:<br/>[1] Covariance matrix calculated using the outer product of gradients (complex-step)."
            ],
            "text/plain": [
              "<class 'statsmodels.iolib.summary.Summary'>\n",
              "\"\"\"\n",
              "                           Statespace Model Results                           \n",
              "==============================================================================\n",
              "Dep. Variable:                      y   No. Observations:                 1229\n",
              "Model:               SARIMAX(3, 1, 3)   Log Likelihood               -9010.133\n",
              "Date:                Wed, 20 Jan 2021   AIC                          18034.266\n",
              "Time:                        04:25:49   BIC                          18070.058\n",
              "Sample:                             0   HQIC                         18047.734\n",
              "                               - 1229                                         \n",
              "Covariance Type:                  opg                                         \n",
              "==============================================================================\n",
              "                 coef    std err          z      P>|z|      [0.025      0.975]\n",
              "------------------------------------------------------------------------------\n",
              "ar.L1         -0.5996      0.051    -11.821      0.000      -0.699      -0.500\n",
              "ar.L2          0.4355      0.066      6.572      0.000       0.306       0.565\n",
              "ar.L3          0.8455      0.045     18.902      0.000       0.758       0.933\n",
              "ma.L1          0.5790      0.057     10.161      0.000       0.467       0.691\n",
              "ma.L2         -0.3469      0.077     -4.491      0.000      -0.498      -0.196\n",
              "ma.L3         -0.8092      0.056    -14.461      0.000      -0.919      -0.699\n",
              "sigma2      1.423e+05   2581.488     55.119      0.000    1.37e+05    1.47e+05\n",
              "===================================================================================\n",
              "Ljung-Box (Q):                       39.30   Jarque-Bera (JB):              8644.45\n",
              "Prob(Q):                              0.50   Prob(JB):                         0.00\n",
              "Heteroskedasticity (H):               6.12   Skew:                            -0.73\n",
              "Prob(H) (two-sided):                  0.00   Kurtosis:                        15.92\n",
              "===================================================================================\n",
              "\n",
              "Warnings:\n",
              "[1] Covariance matrix calculated using the outer product of gradients (complex-step).\n",
              "\"\"\""
            ]
          },
          "metadata": {
            "tags": []
          },
          "execution_count": 50
        }
      ]
    },
    {
      "cell_type": "code",
      "metadata": {
        "id": "EzHSV3uF8VbM",
        "colab": {
          "base_uri": "https://localhost:8080/",
          "height": 1000
        },
        "outputId": "e47b3dc0-eee3-4dd7-8462-2fff2f7cf181"
      },
      "source": [
        "merge=pd.merge(Stock1,News,how = 'inner',on='Date')\r\n",
        "merge"
      ],
      "execution_count": null,
      "outputs": [
        {
          "output_type": "execute_result",
          "data": {
            "text/html": [
              "<div>\n",
              "<style scoped>\n",
              "    .dataframe tbody tr th:only-of-type {\n",
              "        vertical-align: middle;\n",
              "    }\n",
              "\n",
              "    .dataframe tbody tr th {\n",
              "        vertical-align: top;\n",
              "    }\n",
              "\n",
              "    .dataframe thead th {\n",
              "        text-align: right;\n",
              "    }\n",
              "</style>\n",
              "<table border=\"1\" class=\"dataframe\">\n",
              "  <thead>\n",
              "    <tr style=\"text-align: right;\">\n",
              "      <th></th>\n",
              "      <th>Date</th>\n",
              "      <th>Open</th>\n",
              "      <th>High</th>\n",
              "      <th>Low</th>\n",
              "      <th>Close</th>\n",
              "      <th>Adj Close</th>\n",
              "      <th>Volume</th>\n",
              "      <th>headline</th>\n",
              "      <th>Subjectivity</th>\n",
              "      <th>Polarity</th>\n",
              "      <th>Compound</th>\n",
              "      <th>Negative</th>\n",
              "      <th>Neutral</th>\n",
              "      <th>Positive</th>\n",
              "    </tr>\n",
              "  </thead>\n",
              "  <tbody>\n",
              "    <tr>\n",
              "      <th>0</th>\n",
              "      <td>2016-01-20</td>\n",
              "      <td>24325.769531</td>\n",
              "      <td>24325.769531</td>\n",
              "      <td>23839.759766</td>\n",
              "      <td>24062.039063</td>\n",
              "      <td>24062.039063</td>\n",
              "      <td>12800.0</td>\n",
              "      <td>everyday habits that could be ruining your ski...</td>\n",
              "      <td>0.357954</td>\n",
              "      <td>0.069113</td>\n",
              "      <td>-0.9999</td>\n",
              "      <td>0.156</td>\n",
              "      <td>0.745</td>\n",
              "      <td>0.100</td>\n",
              "    </tr>\n",
              "    <tr>\n",
              "      <th>1</th>\n",
              "      <td>2016-01-21</td>\n",
              "      <td>24194.750000</td>\n",
              "      <td>24351.830078</td>\n",
              "      <td>23862.000000</td>\n",
              "      <td>23962.210938</td>\n",
              "      <td>23962.210938</td>\n",
              "      <td>13200.0</td>\n",
              "      <td>ways alcohol is negatively affecting your diet...</td>\n",
              "      <td>0.429280</td>\n",
              "      <td>0.087366</td>\n",
              "      <td>-0.9999</td>\n",
              "      <td>0.151</td>\n",
              "      <td>0.743</td>\n",
              "      <td>0.106</td>\n",
              "    </tr>\n",
              "    <tr>\n",
              "      <th>2</th>\n",
              "      <td>2016-01-22</td>\n",
              "      <td>24122.060547</td>\n",
              "      <td>24472.880859</td>\n",
              "      <td>24120.039063</td>\n",
              "      <td>24435.660156</td>\n",
              "      <td>24435.660156</td>\n",
              "      <td>10100.0</td>\n",
              "      <td>foods you shouldn t eat daily must keep snacks...</td>\n",
              "      <td>0.400856</td>\n",
              "      <td>0.052290</td>\n",
              "      <td>-0.9999</td>\n",
              "      <td>0.146</td>\n",
              "      <td>0.760</td>\n",
              "      <td>0.095</td>\n",
              "    </tr>\n",
              "    <tr>\n",
              "      <th>3</th>\n",
              "      <td>2016-01-25</td>\n",
              "      <td>24540.970703</td>\n",
              "      <td>24650.570313</td>\n",
              "      <td>24433.669922</td>\n",
              "      <td>24485.949219</td>\n",
              "      <td>24485.949219</td>\n",
              "      <td>8900.0</td>\n",
              "      <td>the cholesterol myth ways to fight office leth...</td>\n",
              "      <td>0.414345</td>\n",
              "      <td>0.094777</td>\n",
              "      <td>-0.9994</td>\n",
              "      <td>0.137</td>\n",
              "      <td>0.751</td>\n",
              "      <td>0.112</td>\n",
              "    </tr>\n",
              "    <tr>\n",
              "      <th>4</th>\n",
              "      <td>2016-01-27</td>\n",
              "      <td>24643.130859</td>\n",
              "      <td>24645.699219</td>\n",
              "      <td>24458.130859</td>\n",
              "      <td>24492.390625</td>\n",
              "      <td>24492.390625</td>\n",
              "      <td>8500.0</td>\n",
              "      <td>quiz how well do you know your woman surprisin...</td>\n",
              "      <td>0.371413</td>\n",
              "      <td>0.092082</td>\n",
              "      <td>-0.9229</td>\n",
              "      <td>0.113</td>\n",
              "      <td>0.775</td>\n",
              "      <td>0.112</td>\n",
              "    </tr>\n",
              "    <tr>\n",
              "      <th>...</th>\n",
              "      <td>...</td>\n",
              "      <td>...</td>\n",
              "      <td>...</td>\n",
              "      <td>...</td>\n",
              "      <td>...</td>\n",
              "      <td>...</td>\n",
              "      <td>...</td>\n",
              "      <td>...</td>\n",
              "      <td>...</td>\n",
              "      <td>...</td>\n",
              "      <td>...</td>\n",
              "      <td>...</td>\n",
              "      <td>...</td>\n",
              "      <td>...</td>\n",
              "    </tr>\n",
              "    <tr>\n",
              "      <th>1084</th>\n",
              "      <td>2020-06-24</td>\n",
              "      <td>35679.738281</td>\n",
              "      <td>35706.550781</td>\n",
              "      <td>34794.929688</td>\n",
              "      <td>34868.980469</td>\n",
              "      <td>34868.980469</td>\n",
              "      <td>26600.0</td>\n",
              "      <td>i never thought i had a voice until today vidy...</td>\n",
              "      <td>0.371566</td>\n",
              "      <td>0.093824</td>\n",
              "      <td>-0.9997</td>\n",
              "      <td>0.122</td>\n",
              "      <td>0.799</td>\n",
              "      <td>0.079</td>\n",
              "    </tr>\n",
              "    <tr>\n",
              "      <th>1085</th>\n",
              "      <td>2020-06-25</td>\n",
              "      <td>34525.390625</td>\n",
              "      <td>35081.609375</td>\n",
              "      <td>34499.781250</td>\n",
              "      <td>34842.101563</td>\n",
              "      <td>34842.101563</td>\n",
              "      <td>24600.0</td>\n",
              "      <td>truck firms look for new export markets to sel...</td>\n",
              "      <td>0.395069</td>\n",
              "      <td>0.028669</td>\n",
              "      <td>-0.9999</td>\n",
              "      <td>0.134</td>\n",
              "      <td>0.808</td>\n",
              "      <td>0.058</td>\n",
              "    </tr>\n",
              "    <tr>\n",
              "      <th>1086</th>\n",
              "      <td>2020-06-26</td>\n",
              "      <td>35144.781250</td>\n",
              "      <td>35254.878906</td>\n",
              "      <td>34910.339844</td>\n",
              "      <td>35171.269531</td>\n",
              "      <td>35171.269531</td>\n",
              "      <td>24800.0</td>\n",
              "      <td>containment zone residents slam high prices ch...</td>\n",
              "      <td>0.370603</td>\n",
              "      <td>0.072293</td>\n",
              "      <td>-0.9999</td>\n",
              "      <td>0.160</td>\n",
              "      <td>0.752</td>\n",
              "      <td>0.088</td>\n",
              "    </tr>\n",
              "    <tr>\n",
              "      <th>1087</th>\n",
              "      <td>2020-06-29</td>\n",
              "      <td>34926.949219</td>\n",
              "      <td>35032.359375</td>\n",
              "      <td>34662.058594</td>\n",
              "      <td>34961.519531</td>\n",
              "      <td>34961.519531</td>\n",
              "      <td>18300.0</td>\n",
              "      <td>hot and stylish bikini looks of katrina kaifan...</td>\n",
              "      <td>0.380647</td>\n",
              "      <td>0.056804</td>\n",
              "      <td>-0.9997</td>\n",
              "      <td>0.128</td>\n",
              "      <td>0.787</td>\n",
              "      <td>0.085</td>\n",
              "    </tr>\n",
              "    <tr>\n",
              "      <th>1088</th>\n",
              "      <td>2020-06-30</td>\n",
              "      <td>35168.300781</td>\n",
              "      <td>35233.910156</td>\n",
              "      <td>34812.800781</td>\n",
              "      <td>34915.800781</td>\n",
              "      <td>34915.800781</td>\n",
              "      <td>18500.0</td>\n",
              "      <td>detective byomkesh bakshy edge of tomorrowfirs...</td>\n",
              "      <td>0.375745</td>\n",
              "      <td>0.070235</td>\n",
              "      <td>-0.9999</td>\n",
              "      <td>0.128</td>\n",
              "      <td>0.807</td>\n",
              "      <td>0.065</td>\n",
              "    </tr>\n",
              "  </tbody>\n",
              "</table>\n",
              "<p>1089 rows × 14 columns</p>\n",
              "</div>"
            ],
            "text/plain": [
              "           Date          Open          High  ...  Negative  Neutral  Positive\n",
              "0    2016-01-20  24325.769531  24325.769531  ...     0.156    0.745     0.100\n",
              "1    2016-01-21  24194.750000  24351.830078  ...     0.151    0.743     0.106\n",
              "2    2016-01-22  24122.060547  24472.880859  ...     0.146    0.760     0.095\n",
              "3    2016-01-25  24540.970703  24650.570313  ...     0.137    0.751     0.112\n",
              "4    2016-01-27  24643.130859  24645.699219  ...     0.113    0.775     0.112\n",
              "...         ...           ...           ...  ...       ...      ...       ...\n",
              "1084 2020-06-24  35679.738281  35706.550781  ...     0.122    0.799     0.079\n",
              "1085 2020-06-25  34525.390625  35081.609375  ...     0.134    0.808     0.058\n",
              "1086 2020-06-26  35144.781250  35254.878906  ...     0.160    0.752     0.088\n",
              "1087 2020-06-29  34926.949219  35032.359375  ...     0.128    0.787     0.085\n",
              "1088 2020-06-30  35168.300781  35233.910156  ...     0.128    0.807     0.065\n",
              "\n",
              "[1089 rows x 14 columns]"
            ]
          },
          "metadata": {
            "tags": []
          },
          "execution_count": 52
        }
      ]
    },
    {
      "cell_type": "code",
      "metadata": {
        "id": "laDty0OH9ATm",
        "colab": {
          "base_uri": "https://localhost:8080/",
          "height": 419
        },
        "outputId": "cf725179-e9a5-44f4-9026-a9f64dad7aa3"
      },
      "source": [
        "df_merge=merge[['Close','Subjectivity','Polarity','Compound','Negative','Neutral','Positive']]\r\n",
        "df_merge"
      ],
      "execution_count": null,
      "outputs": [
        {
          "output_type": "execute_result",
          "data": {
            "text/html": [
              "<div>\n",
              "<style scoped>\n",
              "    .dataframe tbody tr th:only-of-type {\n",
              "        vertical-align: middle;\n",
              "    }\n",
              "\n",
              "    .dataframe tbody tr th {\n",
              "        vertical-align: top;\n",
              "    }\n",
              "\n",
              "    .dataframe thead th {\n",
              "        text-align: right;\n",
              "    }\n",
              "</style>\n",
              "<table border=\"1\" class=\"dataframe\">\n",
              "  <thead>\n",
              "    <tr style=\"text-align: right;\">\n",
              "      <th></th>\n",
              "      <th>Close</th>\n",
              "      <th>Subjectivity</th>\n",
              "      <th>Polarity</th>\n",
              "      <th>Compound</th>\n",
              "      <th>Negative</th>\n",
              "      <th>Neutral</th>\n",
              "      <th>Positive</th>\n",
              "    </tr>\n",
              "  </thead>\n",
              "  <tbody>\n",
              "    <tr>\n",
              "      <th>0</th>\n",
              "      <td>24062.039063</td>\n",
              "      <td>0.357954</td>\n",
              "      <td>0.069113</td>\n",
              "      <td>-0.9999</td>\n",
              "      <td>0.156</td>\n",
              "      <td>0.745</td>\n",
              "      <td>0.100</td>\n",
              "    </tr>\n",
              "    <tr>\n",
              "      <th>1</th>\n",
              "      <td>23962.210938</td>\n",
              "      <td>0.429280</td>\n",
              "      <td>0.087366</td>\n",
              "      <td>-0.9999</td>\n",
              "      <td>0.151</td>\n",
              "      <td>0.743</td>\n",
              "      <td>0.106</td>\n",
              "    </tr>\n",
              "    <tr>\n",
              "      <th>2</th>\n",
              "      <td>24435.660156</td>\n",
              "      <td>0.400856</td>\n",
              "      <td>0.052290</td>\n",
              "      <td>-0.9999</td>\n",
              "      <td>0.146</td>\n",
              "      <td>0.760</td>\n",
              "      <td>0.095</td>\n",
              "    </tr>\n",
              "    <tr>\n",
              "      <th>3</th>\n",
              "      <td>24485.949219</td>\n",
              "      <td>0.414345</td>\n",
              "      <td>0.094777</td>\n",
              "      <td>-0.9994</td>\n",
              "      <td>0.137</td>\n",
              "      <td>0.751</td>\n",
              "      <td>0.112</td>\n",
              "    </tr>\n",
              "    <tr>\n",
              "      <th>4</th>\n",
              "      <td>24492.390625</td>\n",
              "      <td>0.371413</td>\n",
              "      <td>0.092082</td>\n",
              "      <td>-0.9229</td>\n",
              "      <td>0.113</td>\n",
              "      <td>0.775</td>\n",
              "      <td>0.112</td>\n",
              "    </tr>\n",
              "    <tr>\n",
              "      <th>...</th>\n",
              "      <td>...</td>\n",
              "      <td>...</td>\n",
              "      <td>...</td>\n",
              "      <td>...</td>\n",
              "      <td>...</td>\n",
              "      <td>...</td>\n",
              "      <td>...</td>\n",
              "    </tr>\n",
              "    <tr>\n",
              "      <th>1084</th>\n",
              "      <td>34868.980469</td>\n",
              "      <td>0.371566</td>\n",
              "      <td>0.093824</td>\n",
              "      <td>-0.9997</td>\n",
              "      <td>0.122</td>\n",
              "      <td>0.799</td>\n",
              "      <td>0.079</td>\n",
              "    </tr>\n",
              "    <tr>\n",
              "      <th>1085</th>\n",
              "      <td>34842.101563</td>\n",
              "      <td>0.395069</td>\n",
              "      <td>0.028669</td>\n",
              "      <td>-0.9999</td>\n",
              "      <td>0.134</td>\n",
              "      <td>0.808</td>\n",
              "      <td>0.058</td>\n",
              "    </tr>\n",
              "    <tr>\n",
              "      <th>1086</th>\n",
              "      <td>35171.269531</td>\n",
              "      <td>0.370603</td>\n",
              "      <td>0.072293</td>\n",
              "      <td>-0.9999</td>\n",
              "      <td>0.160</td>\n",
              "      <td>0.752</td>\n",
              "      <td>0.088</td>\n",
              "    </tr>\n",
              "    <tr>\n",
              "      <th>1087</th>\n",
              "      <td>34961.519531</td>\n",
              "      <td>0.380647</td>\n",
              "      <td>0.056804</td>\n",
              "      <td>-0.9997</td>\n",
              "      <td>0.128</td>\n",
              "      <td>0.787</td>\n",
              "      <td>0.085</td>\n",
              "    </tr>\n",
              "    <tr>\n",
              "      <th>1088</th>\n",
              "      <td>34915.800781</td>\n",
              "      <td>0.375745</td>\n",
              "      <td>0.070235</td>\n",
              "      <td>-0.9999</td>\n",
              "      <td>0.128</td>\n",
              "      <td>0.807</td>\n",
              "      <td>0.065</td>\n",
              "    </tr>\n",
              "  </tbody>\n",
              "</table>\n",
              "<p>1089 rows × 7 columns</p>\n",
              "</div>"
            ],
            "text/plain": [
              "             Close  Subjectivity  Polarity  ...  Negative  Neutral  Positive\n",
              "0     24062.039063      0.357954  0.069113  ...     0.156    0.745     0.100\n",
              "1     23962.210938      0.429280  0.087366  ...     0.151    0.743     0.106\n",
              "2     24435.660156      0.400856  0.052290  ...     0.146    0.760     0.095\n",
              "3     24485.949219      0.414345  0.094777  ...     0.137    0.751     0.112\n",
              "4     24492.390625      0.371413  0.092082  ...     0.113    0.775     0.112\n",
              "...            ...           ...       ...  ...       ...      ...       ...\n",
              "1084  34868.980469      0.371566  0.093824  ...     0.122    0.799     0.079\n",
              "1085  34842.101563      0.395069  0.028669  ...     0.134    0.808     0.058\n",
              "1086  35171.269531      0.370603  0.072293  ...     0.160    0.752     0.088\n",
              "1087  34961.519531      0.380647  0.056804  ...     0.128    0.787     0.085\n",
              "1088  34915.800781      0.375745  0.070235  ...     0.128    0.807     0.065\n",
              "\n",
              "[1089 rows x 7 columns]"
            ]
          },
          "metadata": {
            "tags": []
          },
          "execution_count": 54
        }
      ]
    },
    {
      "cell_type": "code",
      "metadata": {
        "id": "P6c_s_xP9b2R"
      },
      "source": [
        "from sklearn.preprocessing import MinMaxScaler\r\n",
        "sc=MinMaxScaler()\r\n"
      ],
      "execution_count": null,
      "outputs": []
    },
    {
      "cell_type": "code",
      "metadata": {
        "colab": {
          "base_uri": "https://localhost:8080/",
          "height": 204
        },
        "id": "yEEyZ44qE5v0",
        "outputId": "5e87d753-f075-4bfd-f337-855c48702735"
      },
      "source": [
        "new=pd.DataFrame(sc.fit_transform(df_merge))\r\n",
        "new.columns=df_merge.columns\r\n",
        "new.indexs=df_merge.index\r\n",
        "new.head()"
      ],
      "execution_count": null,
      "outputs": [
        {
          "output_type": "execute_result",
          "data": {
            "text/html": [
              "<div>\n",
              "<style scoped>\n",
              "    .dataframe tbody tr th:only-of-type {\n",
              "        vertical-align: middle;\n",
              "    }\n",
              "\n",
              "    .dataframe tbody tr th {\n",
              "        vertical-align: top;\n",
              "    }\n",
              "\n",
              "    .dataframe thead th {\n",
              "        text-align: right;\n",
              "    }\n",
              "</style>\n",
              "<table border=\"1\" class=\"dataframe\">\n",
              "  <thead>\n",
              "    <tr style=\"text-align: right;\">\n",
              "      <th></th>\n",
              "      <th>Close</th>\n",
              "      <th>Subjectivity</th>\n",
              "      <th>Polarity</th>\n",
              "      <th>Compound</th>\n",
              "      <th>Negative</th>\n",
              "      <th>Neutral</th>\n",
              "      <th>Positive</th>\n",
              "    </tr>\n",
              "  </thead>\n",
              "  <tbody>\n",
              "    <tr>\n",
              "      <th>0</th>\n",
              "      <td>0.058430</td>\n",
              "      <td>0.216369</td>\n",
              "      <td>0.576693</td>\n",
              "      <td>0.000050</td>\n",
              "      <td>0.616541</td>\n",
              "      <td>0.187500</td>\n",
              "      <td>0.560440</td>\n",
              "    </tr>\n",
              "    <tr>\n",
              "      <th>1</th>\n",
              "      <td>0.053176</td>\n",
              "      <td>0.753747</td>\n",
              "      <td>0.708993</td>\n",
              "      <td>0.000050</td>\n",
              "      <td>0.578947</td>\n",
              "      <td>0.173611</td>\n",
              "      <td>0.626374</td>\n",
              "    </tr>\n",
              "    <tr>\n",
              "      <th>2</th>\n",
              "      <td>0.078093</td>\n",
              "      <td>0.539597</td>\n",
              "      <td>0.454766</td>\n",
              "      <td>0.000050</td>\n",
              "      <td>0.541353</td>\n",
              "      <td>0.291667</td>\n",
              "      <td>0.505495</td>\n",
              "    </tr>\n",
              "    <tr>\n",
              "      <th>3</th>\n",
              "      <td>0.080740</td>\n",
              "      <td>0.641227</td>\n",
              "      <td>0.762708</td>\n",
              "      <td>0.000300</td>\n",
              "      <td>0.473684</td>\n",
              "      <td>0.229167</td>\n",
              "      <td>0.692308</td>\n",
              "    </tr>\n",
              "    <tr>\n",
              "      <th>4</th>\n",
              "      <td>0.081079</td>\n",
              "      <td>0.317773</td>\n",
              "      <td>0.743170</td>\n",
              "      <td>0.038563</td>\n",
              "      <td>0.293233</td>\n",
              "      <td>0.395833</td>\n",
              "      <td>0.692308</td>\n",
              "    </tr>\n",
              "  </tbody>\n",
              "</table>\n",
              "</div>"
            ],
            "text/plain": [
              "      Close  Subjectivity  Polarity  Compound  Negative   Neutral  Positive\n",
              "0  0.058430      0.216369  0.576693  0.000050  0.616541  0.187500  0.560440\n",
              "1  0.053176      0.753747  0.708993  0.000050  0.578947  0.173611  0.626374\n",
              "2  0.078093      0.539597  0.454766  0.000050  0.541353  0.291667  0.505495\n",
              "3  0.080740      0.641227  0.762708  0.000300  0.473684  0.229167  0.692308\n",
              "4  0.081079      0.317773  0.743170  0.038563  0.293233  0.395833  0.692308"
            ]
          },
          "metadata": {
            "tags": []
          },
          "execution_count": 59
        }
      ]
    },
    {
      "cell_type": "code",
      "metadata": {
        "id": "eBwc4owT-Xuq"
      },
      "source": [
        "x=new.drop('Close',axis=1)\r\n",
        "y=new['Close']"
      ],
      "execution_count": null,
      "outputs": []
    },
    {
      "cell_type": "code",
      "metadata": {
        "id": "nmkTlHAB-_n2",
        "colab": {
          "base_uri": "https://localhost:8080/",
          "height": 204
        },
        "outputId": "381b2f7c-063a-4246-97ea-eb1f3e74386c"
      },
      "source": [
        "x.head()"
      ],
      "execution_count": null,
      "outputs": [
        {
          "output_type": "execute_result",
          "data": {
            "text/html": [
              "<div>\n",
              "<style scoped>\n",
              "    .dataframe tbody tr th:only-of-type {\n",
              "        vertical-align: middle;\n",
              "    }\n",
              "\n",
              "    .dataframe tbody tr th {\n",
              "        vertical-align: top;\n",
              "    }\n",
              "\n",
              "    .dataframe thead th {\n",
              "        text-align: right;\n",
              "    }\n",
              "</style>\n",
              "<table border=\"1\" class=\"dataframe\">\n",
              "  <thead>\n",
              "    <tr style=\"text-align: right;\">\n",
              "      <th></th>\n",
              "      <th>Subjectivity</th>\n",
              "      <th>Polarity</th>\n",
              "      <th>Compound</th>\n",
              "      <th>Negative</th>\n",
              "      <th>Neutral</th>\n",
              "      <th>Positive</th>\n",
              "    </tr>\n",
              "  </thead>\n",
              "  <tbody>\n",
              "    <tr>\n",
              "      <th>0</th>\n",
              "      <td>0.216369</td>\n",
              "      <td>0.576693</td>\n",
              "      <td>0.000050</td>\n",
              "      <td>0.616541</td>\n",
              "      <td>0.187500</td>\n",
              "      <td>0.560440</td>\n",
              "    </tr>\n",
              "    <tr>\n",
              "      <th>1</th>\n",
              "      <td>0.753747</td>\n",
              "      <td>0.708993</td>\n",
              "      <td>0.000050</td>\n",
              "      <td>0.578947</td>\n",
              "      <td>0.173611</td>\n",
              "      <td>0.626374</td>\n",
              "    </tr>\n",
              "    <tr>\n",
              "      <th>2</th>\n",
              "      <td>0.539597</td>\n",
              "      <td>0.454766</td>\n",
              "      <td>0.000050</td>\n",
              "      <td>0.541353</td>\n",
              "      <td>0.291667</td>\n",
              "      <td>0.505495</td>\n",
              "    </tr>\n",
              "    <tr>\n",
              "      <th>3</th>\n",
              "      <td>0.641227</td>\n",
              "      <td>0.762708</td>\n",
              "      <td>0.000300</td>\n",
              "      <td>0.473684</td>\n",
              "      <td>0.229167</td>\n",
              "      <td>0.692308</td>\n",
              "    </tr>\n",
              "    <tr>\n",
              "      <th>4</th>\n",
              "      <td>0.317773</td>\n",
              "      <td>0.743170</td>\n",
              "      <td>0.038563</td>\n",
              "      <td>0.293233</td>\n",
              "      <td>0.395833</td>\n",
              "      <td>0.692308</td>\n",
              "    </tr>\n",
              "  </tbody>\n",
              "</table>\n",
              "</div>"
            ],
            "text/plain": [
              "   Subjectivity  Polarity  Compound  Negative   Neutral  Positive\n",
              "0      0.216369  0.576693  0.000050  0.616541  0.187500  0.560440\n",
              "1      0.753747  0.708993  0.000050  0.578947  0.173611  0.626374\n",
              "2      0.539597  0.454766  0.000050  0.541353  0.291667  0.505495\n",
              "3      0.641227  0.762708  0.000300  0.473684  0.229167  0.692308\n",
              "4      0.317773  0.743170  0.038563  0.293233  0.395833  0.692308"
            ]
          },
          "metadata": {
            "tags": []
          },
          "execution_count": 61
        }
      ]
    },
    {
      "cell_type": "code",
      "metadata": {
        "id": "Bsh76mQH_CGN",
        "colab": {
          "base_uri": "https://localhost:8080/"
        },
        "outputId": "7fbb6b89-79ec-4129-a111-c7b1600602c6"
      },
      "source": [
        "from sklearn.model_selection import train_test_split\r\n",
        "x_train,x_test,y_train,y_test=train_test_split(x,y,test_size=0.2,random_state=0)\r\n",
        "x_train.shape"
      ],
      "execution_count": null,
      "outputs": [
        {
          "output_type": "execute_result",
          "data": {
            "text/plain": [
              "(871, 6)"
            ]
          },
          "metadata": {
            "tags": []
          },
          "execution_count": 65
        }
      ]
    },
    {
      "cell_type": "code",
      "metadata": {
        "id": "DvyiWGjb_d8J",
        "colab": {
          "base_uri": "https://localhost:8080/",
          "height": 204
        },
        "outputId": "ad6d4481-1eae-4ade-c5d6-a81d3ae36b04"
      },
      "source": [
        "x_train[:5]"
      ],
      "execution_count": null,
      "outputs": [
        {
          "output_type": "execute_result",
          "data": {
            "text/html": [
              "<div>\n",
              "<style scoped>\n",
              "    .dataframe tbody tr th:only-of-type {\n",
              "        vertical-align: middle;\n",
              "    }\n",
              "\n",
              "    .dataframe tbody tr th {\n",
              "        vertical-align: top;\n",
              "    }\n",
              "\n",
              "    .dataframe thead th {\n",
              "        text-align: right;\n",
              "    }\n",
              "</style>\n",
              "<table border=\"1\" class=\"dataframe\">\n",
              "  <thead>\n",
              "    <tr style=\"text-align: right;\">\n",
              "      <th></th>\n",
              "      <th>Subjectivity</th>\n",
              "      <th>Polarity</th>\n",
              "      <th>Compound</th>\n",
              "      <th>Negative</th>\n",
              "      <th>Neutral</th>\n",
              "      <th>Positive</th>\n",
              "    </tr>\n",
              "  </thead>\n",
              "  <tbody>\n",
              "    <tr>\n",
              "      <th>1088</th>\n",
              "      <td>0.350408</td>\n",
              "      <td>0.584827</td>\n",
              "      <td>0.00005</td>\n",
              "      <td>0.406015</td>\n",
              "      <td>0.618056</td>\n",
              "      <td>0.175824</td>\n",
              "    </tr>\n",
              "    <tr>\n",
              "      <th>717</th>\n",
              "      <td>0.436781</td>\n",
              "      <td>0.600707</td>\n",
              "      <td>0.00040</td>\n",
              "      <td>0.323308</td>\n",
              "      <td>0.451389</td>\n",
              "      <td>0.560440</td>\n",
              "    </tr>\n",
              "    <tr>\n",
              "      <th>688</th>\n",
              "      <td>0.411252</td>\n",
              "      <td>0.524428</td>\n",
              "      <td>0.00005</td>\n",
              "      <td>0.473684</td>\n",
              "      <td>0.423611</td>\n",
              "      <td>0.384615</td>\n",
              "    </tr>\n",
              "    <tr>\n",
              "      <th>308</th>\n",
              "      <td>0.097843</td>\n",
              "      <td>0.646697</td>\n",
              "      <td>0.00025</td>\n",
              "      <td>0.488722</td>\n",
              "      <td>0.180556</td>\n",
              "      <td>0.747253</td>\n",
              "    </tr>\n",
              "    <tr>\n",
              "      <th>251</th>\n",
              "      <td>0.635399</td>\n",
              "      <td>0.686096</td>\n",
              "      <td>0.99955</td>\n",
              "      <td>0.210526</td>\n",
              "      <td>0.430556</td>\n",
              "      <td>0.758242</td>\n",
              "    </tr>\n",
              "  </tbody>\n",
              "</table>\n",
              "</div>"
            ],
            "text/plain": [
              "      Subjectivity  Polarity  Compound  Negative   Neutral  Positive\n",
              "1088      0.350408  0.584827   0.00005  0.406015  0.618056  0.175824\n",
              "717       0.436781  0.600707   0.00040  0.323308  0.451389  0.560440\n",
              "688       0.411252  0.524428   0.00005  0.473684  0.423611  0.384615\n",
              "308       0.097843  0.646697   0.00025  0.488722  0.180556  0.747253\n",
              "251       0.635399  0.686096   0.99955  0.210526  0.430556  0.758242"
            ]
          },
          "metadata": {
            "tags": []
          },
          "execution_count": 66
        }
      ]
    },
    {
      "cell_type": "code",
      "metadata": {
        "id": "M74QbTKo_iH2"
      },
      "source": [
        "from sklearn.ensemble import RandomForestRegressor,AdaBoostRegressor\r\n",
        "random=RandomForestRegressor()\r\n",
        "random.fit(x_train,y_train)\r\n",
        "prediction=random.predict(x_test)"
      ],
      "execution_count": null,
      "outputs": []
    },
    {
      "cell_type": "code",
      "metadata": {
        "id": "B0FQKfh7F_WS"
      },
      "source": [
        "from sklearn.metrics import mean_squared_error"
      ],
      "execution_count": null,
      "outputs": []
    },
    {
      "cell_type": "code",
      "metadata": {
        "id": "77Zy_4bJ_1So",
        "colab": {
          "base_uri": "https://localhost:8080/"
        },
        "outputId": "75b10f6e-bddb-4493-8bdf-316f542547be"
      },
      "source": [
        "print(prediction[:5])\r\n",
        "print(y_test[:5])\r\n",
        "print(mean_squared_error(prediction,y_test))"
      ],
      "execution_count": null,
      "outputs": [
        {
          "output_type": "stream",
          "text": [
            "[0.49749162 0.5719561  0.53683856 0.2217971  0.52312565]\n",
            "809    0.780878\n",
            "597    0.662893\n",
            "278    0.313150\n",
            "533    0.524783\n",
            "482    0.571578\n",
            "Name: Close, dtype: float64\n",
            "0.06882102924411523\n"
          ],
          "name": "stdout"
        }
      ]
    },
    {
      "cell_type": "code",
      "metadata": {
        "id": "UampF0ySAJf8"
      },
      "source": [
        "Boost=AdaBoostRegressor()\r\n",
        "Boost.fit(x_train,y_train)\r\n",
        "pd=Boost.predict(x_test)"
      ],
      "execution_count": null,
      "outputs": []
    },
    {
      "cell_type": "code",
      "metadata": {
        "id": "bHM5r7qwAiq7",
        "colab": {
          "base_uri": "https://localhost:8080/"
        },
        "outputId": "0eb93272-5225-4f31-8106-7aaf4cde0a19"
      },
      "source": [
        "print(mean_squared_error(pd,y_test))"
      ],
      "execution_count": null,
      "outputs": [
        {
          "output_type": "stream",
          "text": [
            "0.067929532797038\n"
          ],
          "name": "stdout"
        }
      ]
    },
    {
      "cell_type": "code",
      "metadata": {
        "id": "EVPqfKxKAwBz"
      },
      "source": [
        "from sklearn.tree import DecisionTreeRegressor\r\n",
        "dec=DecisionTreeRegressor()\r\n",
        "dec.fit(x_train,y_train)\r\n",
        "pdc=dec.predict(x_test)"
      ],
      "execution_count": null,
      "outputs": []
    },
    {
      "cell_type": "code",
      "metadata": {
        "id": "SPDH7NARDgy2",
        "colab": {
          "base_uri": "https://localhost:8080/"
        },
        "outputId": "0c05f45b-2774-4442-a95c-6e4b57ba3738"
      },
      "source": [
        "print(pdc[:5])\r\n",
        "print(y_test[:5])\r\n",
        "print(mean_squared_error(pdc,y_test))"
      ],
      "execution_count": null,
      "outputs": [
        {
          "output_type": "stream",
          "text": [
            "[0.60096147 0.80475451 0.68571325 0.06691773 0.7976002 ]\n",
            "809    0.780878\n",
            "597    0.662893\n",
            "278    0.313150\n",
            "533    0.524783\n",
            "482    0.571578\n",
            "Name: Close, dtype: float64\n",
            "0.11203506775815053\n"
          ],
          "name": "stdout"
        }
      ]
    },
    {
      "cell_type": "code",
      "metadata": {
        "id": "zcSkzl0JD0-d",
        "colab": {
          "base_uri": "https://localhost:8080/"
        },
        "outputId": "7f8d6d7b-7d91-49c8-bcea-1ab0a2fa0448"
      },
      "source": [
        "import lightgbm\r\n",
        "lgb=lightgbm.LGBMRegressor()\r\n",
        "lgb.fit(x_train,y_train)"
      ],
      "execution_count": null,
      "outputs": [
        {
          "output_type": "execute_result",
          "data": {
            "text/plain": [
              "LGBMRegressor(boosting_type='gbdt', class_weight=None, colsample_bytree=1.0,\n",
              "              importance_type='split', learning_rate=0.1, max_depth=-1,\n",
              "              min_child_samples=20, min_child_weight=0.001, min_split_gain=0.0,\n",
              "              n_estimators=100, n_jobs=-1, num_leaves=31, objective=None,\n",
              "              random_state=None, reg_alpha=0.0, reg_lambda=0.0, silent=True,\n",
              "              subsample=1.0, subsample_for_bin=200000, subsample_freq=0)"
            ]
          },
          "metadata": {
            "tags": []
          },
          "execution_count": 81
        }
      ]
    },
    {
      "cell_type": "code",
      "metadata": {
        "id": "dKzMRgz3EKCU",
        "colab": {
          "base_uri": "https://localhost:8080/"
        },
        "outputId": "5f45a08f-8e29-4a32-d2b2-1e8a203e9403"
      },
      "source": [
        "pred=lgb.predict(x_test)\r\n",
        "print(mean_squared_error(pred,y_test))"
      ],
      "execution_count": null,
      "outputs": [
        {
          "output_type": "stream",
          "text": [
            "0.0705961476289113\n"
          ],
          "name": "stdout"
        }
      ]
    },
    {
      "cell_type": "code",
      "metadata": {
        "id": "Z36RoAlKEXNl",
        "colab": {
          "base_uri": "https://localhost:8080/"
        },
        "outputId": "56f7651a-3a65-4481-b49f-a2d2ef8d7f45"
      },
      "source": [
        "xgb=xgboost.XGBRegressor()\r\n",
        "xgb.fit(x_train,y_train)"
      ],
      "execution_count": null,
      "outputs": [
        {
          "output_type": "stream",
          "text": [
            "[04:44:24] WARNING: /workspace/src/objective/regression_obj.cu:152: reg:linear is now deprecated in favor of reg:squarederror.\n"
          ],
          "name": "stdout"
        },
        {
          "output_type": "execute_result",
          "data": {
            "text/plain": [
              "XGBRegressor(base_score=0.5, booster='gbtree', colsample_bylevel=1,\n",
              "             colsample_bynode=1, colsample_bytree=1, gamma=0,\n",
              "             importance_type='gain', learning_rate=0.1, max_delta_step=0,\n",
              "             max_depth=3, min_child_weight=1, missing=None, n_estimators=100,\n",
              "             n_jobs=1, nthread=None, objective='reg:linear', random_state=0,\n",
              "             reg_alpha=0, reg_lambda=1, scale_pos_weight=1, seed=None,\n",
              "             silent=None, subsample=1, verbosity=1)"
            ]
          },
          "metadata": {
            "tags": []
          },
          "execution_count": 85
        }
      ]
    },
    {
      "cell_type": "code",
      "metadata": {
        "id": "DrK3f4KrEpbC",
        "colab": {
          "base_uri": "https://localhost:8080/"
        },
        "outputId": "c9fe88c5-93e7-45e5-b263-4dd4c7367898"
      },
      "source": [
        "preds=xgb.predict(x_test)\r\n",
        "print(mean_squared_error(preds,y_test))"
      ],
      "execution_count": null,
      "outputs": [
        {
          "output_type": "stream",
          "text": [
            "0.06598878077334851\n"
          ],
          "name": "stdout"
        }
      ]
    },
    {
      "cell_type": "markdown",
      "metadata": {
        "id": "yD7mx1ulHGVJ"
      },
      "source": [
        "We observed that Xgboost model performs the best for the sentiment analysis."
      ]
    }
  ]
}